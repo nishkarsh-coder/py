{
  "nbformat": 4,
  "nbformat_minor": 0,
  "metadata": {
    "colab": {
      "name": "Hackethon1.ipynb",
      "provenance": [],
      "mount_file_id": "1WQ5IV09jztxsvtfhnBDTuGWdnyBy0pc7",
      "authorship_tag": "ABX9TyNruyFvS1uQE8rjokPmgINo",
      "include_colab_link": true
    },
    "kernelspec": {
      "name": "python3",
      "display_name": "Python 3"
    },
    "language_info": {
      "name": "python"
    }
  },
  "cells": [
    {
      "cell_type": "markdown",
      "metadata": {
        "id": "view-in-github",
        "colab_type": "text"
      },
      "source": [
        "<a href=\"https://colab.research.google.com/github/nishkarsh-coder/py/blob/master/Hackethon1.ipynb\" target=\"_parent\"><img src=\"https://colab.research.google.com/assets/colab-badge.svg\" alt=\"Open In Colab\"/></a>"
      ]
    },
    {
      "cell_type": "code",
      "source": [
        "import pandas as pd\n",
        "train= pd.read_csv(\"/content/drive/MyDrive/Copy of train_file.csv\")"
      ],
      "metadata": {
        "id": "jdds3g1QPwkC",
        "colab": {
          "base_uri": "https://localhost:8080/"
        },
        "outputId": "f78473ff-abf2-4087-8342-c052bdce2442"
      },
      "execution_count": 1,
      "outputs": [
        {
          "output_type": "stream",
          "name": "stderr",
          "text": [
            "/usr/local/lib/python3.7/dist-packages/IPython/core/interactiveshell.py:2882: DtypeWarning: Columns (9) have mixed types.Specify dtype option on import or set low_memory=False.\n",
            "  exec(code_obj, self.user_global_ns, self.user_ns)\n"
          ]
        }
      ]
    },
    {
      "cell_type": "code",
      "source": [
        "test=pd.read_csv(\"/content/drive/MyDrive/Copy of test_file.csv\")"
      ],
      "metadata": {
        "id": "WJNUTLueZeaA"
      },
      "execution_count": 2,
      "outputs": []
    },
    {
      "cell_type": "code",
      "source": [
        "train.head(2)"
      ],
      "metadata": {
        "id": "SVUi8S_eRa8B",
        "colab": {
          "base_uri": "https://localhost:8080/",
          "height": 327
        },
        "outputId": "847903ea-4226-40cd-e541-eb775a24c4cd"
      },
      "execution_count": 3,
      "outputs": [
        {
          "output_type": "execute_result",
          "data": {
            "text/plain": [
              "                 ID  LICENSE ID  ACCOUNT NUMBER  SITE NUMBER  \\\n",
              "0    35342-20020816     1256593           32811            1   \n",
              "1  1358463-20051116     1639294          262311           29   \n",
              "\n",
              "            LEGAL NAME DOING BUSINESS AS NAME                     ADDRESS  \\\n",
              "0         CARMEN CAHUE  CLAUDIA'S BRIDAL SHOP  2625 S CENTRAL PARK AVE  1   \n",
              "1  ISLA TROPICAL, INC.          ISLA TROPICAL         2825 W MONTROSE AVE   \n",
              "\n",
              "      CITY STATE ZIP CODE  ...  LICENSE TERM START DATE  \\\n",
              "0  CHICAGO    IL  60623.0  ...      2002-08-16T00:00:00   \n",
              "1  CHICAGO    IL    60618  ...      2005-11-16T00:00:00   \n",
              "\n",
              "   LICENSE TERM EXPIRATION DATE LICENSE APPROVED FOR ISSUANCE  \\\n",
              "0           2003-08-15T00:00:00           2002-08-21T00:00:00   \n",
              "1           2006-11-15T00:00:00           2006-04-05T00:00:00   \n",
              "\n",
              "           DATE ISSUED  LICENSE STATUS CHANGE DATE   SSA   LATITUDE  \\\n",
              "0  2006-04-11T00:00:00                         NaN  25.0  41.843613   \n",
              "1  2006-06-12T00:00:00         2006-06-15T00:00:00  60.0  41.961132   \n",
              "\n",
              "   LONGITUDE                                           LOCATION LICENSE STATUS  \n",
              "0 -87.714618  {'latitude': '41.843612879431845', 'longitude'...            AAI  \n",
              "1 -87.699626  {'latitude': '41.96113244107215', 'longitude':...            AAC  \n",
              "\n",
              "[2 rows x 32 columns]"
            ],
            "text/html": [
              "\n",
              "  <div id=\"df-a9e602c2-d7dd-46d3-9b16-e0a332613f5e\">\n",
              "    <div class=\"colab-df-container\">\n",
              "      <div>\n",
              "<style scoped>\n",
              "    .dataframe tbody tr th:only-of-type {\n",
              "        vertical-align: middle;\n",
              "    }\n",
              "\n",
              "    .dataframe tbody tr th {\n",
              "        vertical-align: top;\n",
              "    }\n",
              "\n",
              "    .dataframe thead th {\n",
              "        text-align: right;\n",
              "    }\n",
              "</style>\n",
              "<table border=\"1\" class=\"dataframe\">\n",
              "  <thead>\n",
              "    <tr style=\"text-align: right;\">\n",
              "      <th></th>\n",
              "      <th>ID</th>\n",
              "      <th>LICENSE ID</th>\n",
              "      <th>ACCOUNT NUMBER</th>\n",
              "      <th>SITE NUMBER</th>\n",
              "      <th>LEGAL NAME</th>\n",
              "      <th>DOING BUSINESS AS NAME</th>\n",
              "      <th>ADDRESS</th>\n",
              "      <th>CITY</th>\n",
              "      <th>STATE</th>\n",
              "      <th>ZIP CODE</th>\n",
              "      <th>...</th>\n",
              "      <th>LICENSE TERM START DATE</th>\n",
              "      <th>LICENSE TERM EXPIRATION DATE</th>\n",
              "      <th>LICENSE APPROVED FOR ISSUANCE</th>\n",
              "      <th>DATE ISSUED</th>\n",
              "      <th>LICENSE STATUS CHANGE DATE</th>\n",
              "      <th>SSA</th>\n",
              "      <th>LATITUDE</th>\n",
              "      <th>LONGITUDE</th>\n",
              "      <th>LOCATION</th>\n",
              "      <th>LICENSE STATUS</th>\n",
              "    </tr>\n",
              "  </thead>\n",
              "  <tbody>\n",
              "    <tr>\n",
              "      <th>0</th>\n",
              "      <td>35342-20020816</td>\n",
              "      <td>1256593</td>\n",
              "      <td>32811</td>\n",
              "      <td>1</td>\n",
              "      <td>CARMEN CAHUE</td>\n",
              "      <td>CLAUDIA'S BRIDAL SHOP</td>\n",
              "      <td>2625 S CENTRAL PARK AVE  1</td>\n",
              "      <td>CHICAGO</td>\n",
              "      <td>IL</td>\n",
              "      <td>60623.0</td>\n",
              "      <td>...</td>\n",
              "      <td>2002-08-16T00:00:00</td>\n",
              "      <td>2003-08-15T00:00:00</td>\n",
              "      <td>2002-08-21T00:00:00</td>\n",
              "      <td>2006-04-11T00:00:00</td>\n",
              "      <td>NaN</td>\n",
              "      <td>25.0</td>\n",
              "      <td>41.843613</td>\n",
              "      <td>-87.714618</td>\n",
              "      <td>{'latitude': '41.843612879431845', 'longitude'...</td>\n",
              "      <td>AAI</td>\n",
              "    </tr>\n",
              "    <tr>\n",
              "      <th>1</th>\n",
              "      <td>1358463-20051116</td>\n",
              "      <td>1639294</td>\n",
              "      <td>262311</td>\n",
              "      <td>29</td>\n",
              "      <td>ISLA TROPICAL, INC.</td>\n",
              "      <td>ISLA TROPICAL</td>\n",
              "      <td>2825 W MONTROSE AVE</td>\n",
              "      <td>CHICAGO</td>\n",
              "      <td>IL</td>\n",
              "      <td>60618</td>\n",
              "      <td>...</td>\n",
              "      <td>2005-11-16T00:00:00</td>\n",
              "      <td>2006-11-15T00:00:00</td>\n",
              "      <td>2006-04-05T00:00:00</td>\n",
              "      <td>2006-06-12T00:00:00</td>\n",
              "      <td>2006-06-15T00:00:00</td>\n",
              "      <td>60.0</td>\n",
              "      <td>41.961132</td>\n",
              "      <td>-87.699626</td>\n",
              "      <td>{'latitude': '41.96113244107215', 'longitude':...</td>\n",
              "      <td>AAC</td>\n",
              "    </tr>\n",
              "  </tbody>\n",
              "</table>\n",
              "<p>2 rows × 32 columns</p>\n",
              "</div>\n",
              "      <button class=\"colab-df-convert\" onclick=\"convertToInteractive('df-a9e602c2-d7dd-46d3-9b16-e0a332613f5e')\"\n",
              "              title=\"Convert this dataframe to an interactive table.\"\n",
              "              style=\"display:none;\">\n",
              "        \n",
              "  <svg xmlns=\"http://www.w3.org/2000/svg\" height=\"24px\"viewBox=\"0 0 24 24\"\n",
              "       width=\"24px\">\n",
              "    <path d=\"M0 0h24v24H0V0z\" fill=\"none\"/>\n",
              "    <path d=\"M18.56 5.44l.94 2.06.94-2.06 2.06-.94-2.06-.94-.94-2.06-.94 2.06-2.06.94zm-11 1L8.5 8.5l.94-2.06 2.06-.94-2.06-.94L8.5 2.5l-.94 2.06-2.06.94zm10 10l.94 2.06.94-2.06 2.06-.94-2.06-.94-.94-2.06-.94 2.06-2.06.94z\"/><path d=\"M17.41 7.96l-1.37-1.37c-.4-.4-.92-.59-1.43-.59-.52 0-1.04.2-1.43.59L10.3 9.45l-7.72 7.72c-.78.78-.78 2.05 0 2.83L4 21.41c.39.39.9.59 1.41.59.51 0 1.02-.2 1.41-.59l7.78-7.78 2.81-2.81c.8-.78.8-2.07 0-2.86zM5.41 20L4 18.59l7.72-7.72 1.47 1.35L5.41 20z\"/>\n",
              "  </svg>\n",
              "      </button>\n",
              "      \n",
              "  <style>\n",
              "    .colab-df-container {\n",
              "      display:flex;\n",
              "      flex-wrap:wrap;\n",
              "      gap: 12px;\n",
              "    }\n",
              "\n",
              "    .colab-df-convert {\n",
              "      background-color: #E8F0FE;\n",
              "      border: none;\n",
              "      border-radius: 50%;\n",
              "      cursor: pointer;\n",
              "      display: none;\n",
              "      fill: #1967D2;\n",
              "      height: 32px;\n",
              "      padding: 0 0 0 0;\n",
              "      width: 32px;\n",
              "    }\n",
              "\n",
              "    .colab-df-convert:hover {\n",
              "      background-color: #E2EBFA;\n",
              "      box-shadow: 0px 1px 2px rgba(60, 64, 67, 0.3), 0px 1px 3px 1px rgba(60, 64, 67, 0.15);\n",
              "      fill: #174EA6;\n",
              "    }\n",
              "\n",
              "    [theme=dark] .colab-df-convert {\n",
              "      background-color: #3B4455;\n",
              "      fill: #D2E3FC;\n",
              "    }\n",
              "\n",
              "    [theme=dark] .colab-df-convert:hover {\n",
              "      background-color: #434B5C;\n",
              "      box-shadow: 0px 1px 3px 1px rgba(0, 0, 0, 0.15);\n",
              "      filter: drop-shadow(0px 1px 2px rgba(0, 0, 0, 0.3));\n",
              "      fill: #FFFFFF;\n",
              "    }\n",
              "  </style>\n",
              "\n",
              "      <script>\n",
              "        const buttonEl =\n",
              "          document.querySelector('#df-a9e602c2-d7dd-46d3-9b16-e0a332613f5e button.colab-df-convert');\n",
              "        buttonEl.style.display =\n",
              "          google.colab.kernel.accessAllowed ? 'block' : 'none';\n",
              "\n",
              "        async function convertToInteractive(key) {\n",
              "          const element = document.querySelector('#df-a9e602c2-d7dd-46d3-9b16-e0a332613f5e');\n",
              "          const dataTable =\n",
              "            await google.colab.kernel.invokeFunction('convertToInteractive',\n",
              "                                                     [key], {});\n",
              "          if (!dataTable) return;\n",
              "\n",
              "          const docLinkHtml = 'Like what you see? Visit the ' +\n",
              "            '<a target=\"_blank\" href=https://colab.research.google.com/notebooks/data_table.ipynb>data table notebook</a>'\n",
              "            + ' to learn more about interactive tables.';\n",
              "          element.innerHTML = '';\n",
              "          dataTable['output_type'] = 'display_data';\n",
              "          await google.colab.output.renderOutput(dataTable, element);\n",
              "          const docLink = document.createElement('div');\n",
              "          docLink.innerHTML = docLinkHtml;\n",
              "          element.appendChild(docLink);\n",
              "        }\n",
              "      </script>\n",
              "    </div>\n",
              "  </div>\n",
              "  "
            ]
          },
          "metadata": {},
          "execution_count": 3
        }
      ]
    },
    {
      "cell_type": "code",
      "source": [
        "test.head(2)"
      ],
      "metadata": {
        "id": "_KAfttNbZrmk",
        "colab": {
          "base_uri": "https://localhost:8080/",
          "height": 327
        },
        "outputId": "1a63676a-2d58-4743-cd78-d5efbb3f0b22"
      },
      "execution_count": 4,
      "outputs": [
        {
          "output_type": "execute_result",
          "data": {
            "text/plain": [
              "                 ID  LICENSE ID  ACCOUNT NUMBER  SITE NUMBER  \\\n",
              "0  1516615-20120216     2132209          280120            1   \n",
              "1    69813-20110616     2090759           65043            1   \n",
              "\n",
              "           LEGAL NAME DOING BUSINESS AS NAME                 ADDRESS     CITY  \\\n",
              "0      RS HOMES I LLC         RS HOMES I LLC  350 W HUBBARD ST 3 300  CHICAGO   \n",
              "1  CSX INTERMODAL INC         CSX INTERMODAL      2101 W 59TH ST 1ST  CHICAGO   \n",
              "\n",
              "  STATE  ZIP CODE  ...  CONDITIONAL APPROVAL  LICENSE TERM START DATE  \\\n",
              "0    IL   60610.0  ...                     N      2012-02-16T00:00:00   \n",
              "1    IL   60636.0  ...                     N      2011-06-16T00:00:00   \n",
              "\n",
              "  LICENSE TERM EXPIRATION DATE  LICENSE APPROVED FOR ISSUANCE  \\\n",
              "0          2014-02-15T00:00:00            2012-01-19T00:00:00   \n",
              "1          2013-06-15T00:00:00            2012-11-02T00:00:00   \n",
              "\n",
              "           DATE ISSUED LICENSE STATUS CHANGE DATE  SSA   LATITUDE  LONGITUDE  \\\n",
              "0  2012-01-20T00:00:00        2012-12-29T00:00:00  NaN  41.890047 -87.637467   \n",
              "1  2012-11-05T00:00:00        2012-12-29T00:00:00  NaN  41.786485 -87.676665   \n",
              "\n",
              "                                            LOCATION  \n",
              "0  {'latitude': '41.89004724888915', 'longitude':...  \n",
              "1  {'latitude': '41.786485235679486', 'longitude'...  \n",
              "\n",
              "[2 rows x 31 columns]"
            ],
            "text/html": [
              "\n",
              "  <div id=\"df-4887b1a9-0f0a-4681-b0cb-e4522faa4840\">\n",
              "    <div class=\"colab-df-container\">\n",
              "      <div>\n",
              "<style scoped>\n",
              "    .dataframe tbody tr th:only-of-type {\n",
              "        vertical-align: middle;\n",
              "    }\n",
              "\n",
              "    .dataframe tbody tr th {\n",
              "        vertical-align: top;\n",
              "    }\n",
              "\n",
              "    .dataframe thead th {\n",
              "        text-align: right;\n",
              "    }\n",
              "</style>\n",
              "<table border=\"1\" class=\"dataframe\">\n",
              "  <thead>\n",
              "    <tr style=\"text-align: right;\">\n",
              "      <th></th>\n",
              "      <th>ID</th>\n",
              "      <th>LICENSE ID</th>\n",
              "      <th>ACCOUNT NUMBER</th>\n",
              "      <th>SITE NUMBER</th>\n",
              "      <th>LEGAL NAME</th>\n",
              "      <th>DOING BUSINESS AS NAME</th>\n",
              "      <th>ADDRESS</th>\n",
              "      <th>CITY</th>\n",
              "      <th>STATE</th>\n",
              "      <th>ZIP CODE</th>\n",
              "      <th>...</th>\n",
              "      <th>CONDITIONAL APPROVAL</th>\n",
              "      <th>LICENSE TERM START DATE</th>\n",
              "      <th>LICENSE TERM EXPIRATION DATE</th>\n",
              "      <th>LICENSE APPROVED FOR ISSUANCE</th>\n",
              "      <th>DATE ISSUED</th>\n",
              "      <th>LICENSE STATUS CHANGE DATE</th>\n",
              "      <th>SSA</th>\n",
              "      <th>LATITUDE</th>\n",
              "      <th>LONGITUDE</th>\n",
              "      <th>LOCATION</th>\n",
              "    </tr>\n",
              "  </thead>\n",
              "  <tbody>\n",
              "    <tr>\n",
              "      <th>0</th>\n",
              "      <td>1516615-20120216</td>\n",
              "      <td>2132209</td>\n",
              "      <td>280120</td>\n",
              "      <td>1</td>\n",
              "      <td>RS HOMES I LLC</td>\n",
              "      <td>RS HOMES I LLC</td>\n",
              "      <td>350 W HUBBARD ST 3 300</td>\n",
              "      <td>CHICAGO</td>\n",
              "      <td>IL</td>\n",
              "      <td>60610.0</td>\n",
              "      <td>...</td>\n",
              "      <td>N</td>\n",
              "      <td>2012-02-16T00:00:00</td>\n",
              "      <td>2014-02-15T00:00:00</td>\n",
              "      <td>2012-01-19T00:00:00</td>\n",
              "      <td>2012-01-20T00:00:00</td>\n",
              "      <td>2012-12-29T00:00:00</td>\n",
              "      <td>NaN</td>\n",
              "      <td>41.890047</td>\n",
              "      <td>-87.637467</td>\n",
              "      <td>{'latitude': '41.89004724888915', 'longitude':...</td>\n",
              "    </tr>\n",
              "    <tr>\n",
              "      <th>1</th>\n",
              "      <td>69813-20110616</td>\n",
              "      <td>2090759</td>\n",
              "      <td>65043</td>\n",
              "      <td>1</td>\n",
              "      <td>CSX INTERMODAL INC</td>\n",
              "      <td>CSX INTERMODAL</td>\n",
              "      <td>2101 W 59TH ST 1ST</td>\n",
              "      <td>CHICAGO</td>\n",
              "      <td>IL</td>\n",
              "      <td>60636.0</td>\n",
              "      <td>...</td>\n",
              "      <td>N</td>\n",
              "      <td>2011-06-16T00:00:00</td>\n",
              "      <td>2013-06-15T00:00:00</td>\n",
              "      <td>2012-11-02T00:00:00</td>\n",
              "      <td>2012-11-05T00:00:00</td>\n",
              "      <td>2012-12-29T00:00:00</td>\n",
              "      <td>NaN</td>\n",
              "      <td>41.786485</td>\n",
              "      <td>-87.676665</td>\n",
              "      <td>{'latitude': '41.786485235679486', 'longitude'...</td>\n",
              "    </tr>\n",
              "  </tbody>\n",
              "</table>\n",
              "<p>2 rows × 31 columns</p>\n",
              "</div>\n",
              "      <button class=\"colab-df-convert\" onclick=\"convertToInteractive('df-4887b1a9-0f0a-4681-b0cb-e4522faa4840')\"\n",
              "              title=\"Convert this dataframe to an interactive table.\"\n",
              "              style=\"display:none;\">\n",
              "        \n",
              "  <svg xmlns=\"http://www.w3.org/2000/svg\" height=\"24px\"viewBox=\"0 0 24 24\"\n",
              "       width=\"24px\">\n",
              "    <path d=\"M0 0h24v24H0V0z\" fill=\"none\"/>\n",
              "    <path d=\"M18.56 5.44l.94 2.06.94-2.06 2.06-.94-2.06-.94-.94-2.06-.94 2.06-2.06.94zm-11 1L8.5 8.5l.94-2.06 2.06-.94-2.06-.94L8.5 2.5l-.94 2.06-2.06.94zm10 10l.94 2.06.94-2.06 2.06-.94-2.06-.94-.94-2.06-.94 2.06-2.06.94z\"/><path d=\"M17.41 7.96l-1.37-1.37c-.4-.4-.92-.59-1.43-.59-.52 0-1.04.2-1.43.59L10.3 9.45l-7.72 7.72c-.78.78-.78 2.05 0 2.83L4 21.41c.39.39.9.59 1.41.59.51 0 1.02-.2 1.41-.59l7.78-7.78 2.81-2.81c.8-.78.8-2.07 0-2.86zM5.41 20L4 18.59l7.72-7.72 1.47 1.35L5.41 20z\"/>\n",
              "  </svg>\n",
              "      </button>\n",
              "      \n",
              "  <style>\n",
              "    .colab-df-container {\n",
              "      display:flex;\n",
              "      flex-wrap:wrap;\n",
              "      gap: 12px;\n",
              "    }\n",
              "\n",
              "    .colab-df-convert {\n",
              "      background-color: #E8F0FE;\n",
              "      border: none;\n",
              "      border-radius: 50%;\n",
              "      cursor: pointer;\n",
              "      display: none;\n",
              "      fill: #1967D2;\n",
              "      height: 32px;\n",
              "      padding: 0 0 0 0;\n",
              "      width: 32px;\n",
              "    }\n",
              "\n",
              "    .colab-df-convert:hover {\n",
              "      background-color: #E2EBFA;\n",
              "      box-shadow: 0px 1px 2px rgba(60, 64, 67, 0.3), 0px 1px 3px 1px rgba(60, 64, 67, 0.15);\n",
              "      fill: #174EA6;\n",
              "    }\n",
              "\n",
              "    [theme=dark] .colab-df-convert {\n",
              "      background-color: #3B4455;\n",
              "      fill: #D2E3FC;\n",
              "    }\n",
              "\n",
              "    [theme=dark] .colab-df-convert:hover {\n",
              "      background-color: #434B5C;\n",
              "      box-shadow: 0px 1px 3px 1px rgba(0, 0, 0, 0.15);\n",
              "      filter: drop-shadow(0px 1px 2px rgba(0, 0, 0, 0.3));\n",
              "      fill: #FFFFFF;\n",
              "    }\n",
              "  </style>\n",
              "\n",
              "      <script>\n",
              "        const buttonEl =\n",
              "          document.querySelector('#df-4887b1a9-0f0a-4681-b0cb-e4522faa4840 button.colab-df-convert');\n",
              "        buttonEl.style.display =\n",
              "          google.colab.kernel.accessAllowed ? 'block' : 'none';\n",
              "\n",
              "        async function convertToInteractive(key) {\n",
              "          const element = document.querySelector('#df-4887b1a9-0f0a-4681-b0cb-e4522faa4840');\n",
              "          const dataTable =\n",
              "            await google.colab.kernel.invokeFunction('convertToInteractive',\n",
              "                                                     [key], {});\n",
              "          if (!dataTable) return;\n",
              "\n",
              "          const docLinkHtml = 'Like what you see? Visit the ' +\n",
              "            '<a target=\"_blank\" href=https://colab.research.google.com/notebooks/data_table.ipynb>data table notebook</a>'\n",
              "            + ' to learn more about interactive tables.';\n",
              "          element.innerHTML = '';\n",
              "          dataTable['output_type'] = 'display_data';\n",
              "          await google.colab.output.renderOutput(dataTable, element);\n",
              "          const docLink = document.createElement('div');\n",
              "          docLink.innerHTML = docLinkHtml;\n",
              "          element.appendChild(docLink);\n",
              "        }\n",
              "      </script>\n",
              "    </div>\n",
              "  </div>\n",
              "  "
            ]
          },
          "metadata": {},
          "execution_count": 4
        }
      ]
    },
    {
      "cell_type": "code",
      "source": [
        "submissions= pd.DataFrame({'ID':test.ID})"
      ],
      "metadata": {
        "id": "vCSaDvdvkbIQ"
      },
      "execution_count": 5,
      "outputs": []
    },
    {
      "cell_type": "code",
      "source": [
        "submissions.head(2)"
      ],
      "metadata": {
        "colab": {
          "base_uri": "https://localhost:8080/",
          "height": 112
        },
        "id": "9XLRwotukliJ",
        "outputId": "a8f3eead-9c52-4161-9a52-fa6898290207"
      },
      "execution_count": 6,
      "outputs": [
        {
          "output_type": "execute_result",
          "data": {
            "text/plain": [
              "                 ID\n",
              "0  1516615-20120216\n",
              "1    69813-20110616"
            ],
            "text/html": [
              "\n",
              "  <div id=\"df-657ef116-0f2e-4df3-a3c4-3e51d4796d4d\">\n",
              "    <div class=\"colab-df-container\">\n",
              "      <div>\n",
              "<style scoped>\n",
              "    .dataframe tbody tr th:only-of-type {\n",
              "        vertical-align: middle;\n",
              "    }\n",
              "\n",
              "    .dataframe tbody tr th {\n",
              "        vertical-align: top;\n",
              "    }\n",
              "\n",
              "    .dataframe thead th {\n",
              "        text-align: right;\n",
              "    }\n",
              "</style>\n",
              "<table border=\"1\" class=\"dataframe\">\n",
              "  <thead>\n",
              "    <tr style=\"text-align: right;\">\n",
              "      <th></th>\n",
              "      <th>ID</th>\n",
              "    </tr>\n",
              "  </thead>\n",
              "  <tbody>\n",
              "    <tr>\n",
              "      <th>0</th>\n",
              "      <td>1516615-20120216</td>\n",
              "    </tr>\n",
              "    <tr>\n",
              "      <th>1</th>\n",
              "      <td>69813-20110616</td>\n",
              "    </tr>\n",
              "  </tbody>\n",
              "</table>\n",
              "</div>\n",
              "      <button class=\"colab-df-convert\" onclick=\"convertToInteractive('df-657ef116-0f2e-4df3-a3c4-3e51d4796d4d')\"\n",
              "              title=\"Convert this dataframe to an interactive table.\"\n",
              "              style=\"display:none;\">\n",
              "        \n",
              "  <svg xmlns=\"http://www.w3.org/2000/svg\" height=\"24px\"viewBox=\"0 0 24 24\"\n",
              "       width=\"24px\">\n",
              "    <path d=\"M0 0h24v24H0V0z\" fill=\"none\"/>\n",
              "    <path d=\"M18.56 5.44l.94 2.06.94-2.06 2.06-.94-2.06-.94-.94-2.06-.94 2.06-2.06.94zm-11 1L8.5 8.5l.94-2.06 2.06-.94-2.06-.94L8.5 2.5l-.94 2.06-2.06.94zm10 10l.94 2.06.94-2.06 2.06-.94-2.06-.94-.94-2.06-.94 2.06-2.06.94z\"/><path d=\"M17.41 7.96l-1.37-1.37c-.4-.4-.92-.59-1.43-.59-.52 0-1.04.2-1.43.59L10.3 9.45l-7.72 7.72c-.78.78-.78 2.05 0 2.83L4 21.41c.39.39.9.59 1.41.59.51 0 1.02-.2 1.41-.59l7.78-7.78 2.81-2.81c.8-.78.8-2.07 0-2.86zM5.41 20L4 18.59l7.72-7.72 1.47 1.35L5.41 20z\"/>\n",
              "  </svg>\n",
              "      </button>\n",
              "      \n",
              "  <style>\n",
              "    .colab-df-container {\n",
              "      display:flex;\n",
              "      flex-wrap:wrap;\n",
              "      gap: 12px;\n",
              "    }\n",
              "\n",
              "    .colab-df-convert {\n",
              "      background-color: #E8F0FE;\n",
              "      border: none;\n",
              "      border-radius: 50%;\n",
              "      cursor: pointer;\n",
              "      display: none;\n",
              "      fill: #1967D2;\n",
              "      height: 32px;\n",
              "      padding: 0 0 0 0;\n",
              "      width: 32px;\n",
              "    }\n",
              "\n",
              "    .colab-df-convert:hover {\n",
              "      background-color: #E2EBFA;\n",
              "      box-shadow: 0px 1px 2px rgba(60, 64, 67, 0.3), 0px 1px 3px 1px rgba(60, 64, 67, 0.15);\n",
              "      fill: #174EA6;\n",
              "    }\n",
              "\n",
              "    [theme=dark] .colab-df-convert {\n",
              "      background-color: #3B4455;\n",
              "      fill: #D2E3FC;\n",
              "    }\n",
              "\n",
              "    [theme=dark] .colab-df-convert:hover {\n",
              "      background-color: #434B5C;\n",
              "      box-shadow: 0px 1px 3px 1px rgba(0, 0, 0, 0.15);\n",
              "      filter: drop-shadow(0px 1px 2px rgba(0, 0, 0, 0.3));\n",
              "      fill: #FFFFFF;\n",
              "    }\n",
              "  </style>\n",
              "\n",
              "      <script>\n",
              "        const buttonEl =\n",
              "          document.querySelector('#df-657ef116-0f2e-4df3-a3c4-3e51d4796d4d button.colab-df-convert');\n",
              "        buttonEl.style.display =\n",
              "          google.colab.kernel.accessAllowed ? 'block' : 'none';\n",
              "\n",
              "        async function convertToInteractive(key) {\n",
              "          const element = document.querySelector('#df-657ef116-0f2e-4df3-a3c4-3e51d4796d4d');\n",
              "          const dataTable =\n",
              "            await google.colab.kernel.invokeFunction('convertToInteractive',\n",
              "                                                     [key], {});\n",
              "          if (!dataTable) return;\n",
              "\n",
              "          const docLinkHtml = 'Like what you see? Visit the ' +\n",
              "            '<a target=\"_blank\" href=https://colab.research.google.com/notebooks/data_table.ipynb>data table notebook</a>'\n",
              "            + ' to learn more about interactive tables.';\n",
              "          element.innerHTML = '';\n",
              "          dataTable['output_type'] = 'display_data';\n",
              "          await google.colab.output.renderOutput(dataTable, element);\n",
              "          const docLink = document.createElement('div');\n",
              "          docLink.innerHTML = docLinkHtml;\n",
              "          element.appendChild(docLink);\n",
              "        }\n",
              "      </script>\n",
              "    </div>\n",
              "  </div>\n",
              "  "
            ]
          },
          "metadata": {},
          "execution_count": 6
        }
      ]
    },
    {
      "cell_type": "code",
      "source": [
        "print(train.shape)\n",
        "print(test.shape)"
      ],
      "metadata": {
        "id": "V9jfJLDsSdkc",
        "colab": {
          "base_uri": "https://localhost:8080/"
        },
        "outputId": "3ed43abf-59d9-401f-f321-5f17fdeb8665"
      },
      "execution_count": 7,
      "outputs": [
        {
          "output_type": "stream",
          "name": "stdout",
          "text": [
            "(85895, 32)\n",
            "(57239, 31)\n"
          ]
        }
      ]
    },
    {
      "cell_type": "code",
      "source": [
        "train.describe()"
      ],
      "metadata": {
        "id": "OLzO0R-NSmNx",
        "colab": {
          "base_uri": "https://localhost:8080/",
          "height": 362
        },
        "outputId": "b65844d2-2d56-4ba7-ae3c-c372f020d66a"
      },
      "execution_count": 8,
      "outputs": [
        {
          "output_type": "execute_result",
          "data": {
            "text/plain": [
              "         LICENSE ID  ACCOUNT NUMBER   SITE NUMBER          WARD      PRECINCT  \\\n",
              "count  8.589500e+04    85895.000000  85895.000000  36194.000000  29194.000000   \n",
              "mean   1.751303e+06   196695.421701      2.556028     28.528927     54.632973   \n",
              "std    3.358780e+05   126819.343760      8.655706     13.921710    163.174955   \n",
              "min    3.079300e+04       10.000000      1.000000      1.000000      1.000000   \n",
              "25%    1.469024e+06    54615.000000      1.000000     17.000000     12.000000   \n",
              "50%    1.778754e+06   248313.000000      1.000000     30.000000     26.000000   \n",
              "75%    2.067578e+06   300243.500000      2.000000     42.000000     41.000000   \n",
              "max    2.456551e+06   397444.000000    417.000000     50.000000    999.000000   \n",
              "\n",
              "       POLICE DISTRICT  LICENSE CODE  LICENSE NUMBER          SSA  \\\n",
              "count     31883.000000  85895.000000    8.589400e+04  9449.000000   \n",
              "mean         13.529812   1111.736620    1.228151e+06    29.152080   \n",
              "std           7.275874    250.020872    7.431487e+05    17.419898   \n",
              "min           1.000000   1002.000000    1.290000e+02     1.000000   \n",
              "25%           8.000000   1010.000000    8.710900e+04    17.000000   \n",
              "50%          14.000000   1010.000000    1.442202e+06    28.000000   \n",
              "75%          19.000000   1011.000000    1.816581e+06    40.000000   \n",
              "max         181.000000   8340.000000    2.391410e+06    69.000000   \n",
              "\n",
              "           LATITUDE     LONGITUDE  \n",
              "count  38649.000000  38649.000000  \n",
              "mean      41.880952    -87.681165  \n",
              "std        0.079617      0.056248  \n",
              "min       41.644694    -87.915285  \n",
              "25%       41.834312    -87.719150  \n",
              "50%       41.892679    -87.673321  \n",
              "75%       41.938624    -87.639509  \n",
              "max       42.022660    -87.525872  "
            ],
            "text/html": [
              "\n",
              "  <div id=\"df-8ed9ed0b-3f41-4416-b028-336bb38212f6\">\n",
              "    <div class=\"colab-df-container\">\n",
              "      <div>\n",
              "<style scoped>\n",
              "    .dataframe tbody tr th:only-of-type {\n",
              "        vertical-align: middle;\n",
              "    }\n",
              "\n",
              "    .dataframe tbody tr th {\n",
              "        vertical-align: top;\n",
              "    }\n",
              "\n",
              "    .dataframe thead th {\n",
              "        text-align: right;\n",
              "    }\n",
              "</style>\n",
              "<table border=\"1\" class=\"dataframe\">\n",
              "  <thead>\n",
              "    <tr style=\"text-align: right;\">\n",
              "      <th></th>\n",
              "      <th>LICENSE ID</th>\n",
              "      <th>ACCOUNT NUMBER</th>\n",
              "      <th>SITE NUMBER</th>\n",
              "      <th>WARD</th>\n",
              "      <th>PRECINCT</th>\n",
              "      <th>POLICE DISTRICT</th>\n",
              "      <th>LICENSE CODE</th>\n",
              "      <th>LICENSE NUMBER</th>\n",
              "      <th>SSA</th>\n",
              "      <th>LATITUDE</th>\n",
              "      <th>LONGITUDE</th>\n",
              "    </tr>\n",
              "  </thead>\n",
              "  <tbody>\n",
              "    <tr>\n",
              "      <th>count</th>\n",
              "      <td>8.589500e+04</td>\n",
              "      <td>85895.000000</td>\n",
              "      <td>85895.000000</td>\n",
              "      <td>36194.000000</td>\n",
              "      <td>29194.000000</td>\n",
              "      <td>31883.000000</td>\n",
              "      <td>85895.000000</td>\n",
              "      <td>8.589400e+04</td>\n",
              "      <td>9449.000000</td>\n",
              "      <td>38649.000000</td>\n",
              "      <td>38649.000000</td>\n",
              "    </tr>\n",
              "    <tr>\n",
              "      <th>mean</th>\n",
              "      <td>1.751303e+06</td>\n",
              "      <td>196695.421701</td>\n",
              "      <td>2.556028</td>\n",
              "      <td>28.528927</td>\n",
              "      <td>54.632973</td>\n",
              "      <td>13.529812</td>\n",
              "      <td>1111.736620</td>\n",
              "      <td>1.228151e+06</td>\n",
              "      <td>29.152080</td>\n",
              "      <td>41.880952</td>\n",
              "      <td>-87.681165</td>\n",
              "    </tr>\n",
              "    <tr>\n",
              "      <th>std</th>\n",
              "      <td>3.358780e+05</td>\n",
              "      <td>126819.343760</td>\n",
              "      <td>8.655706</td>\n",
              "      <td>13.921710</td>\n",
              "      <td>163.174955</td>\n",
              "      <td>7.275874</td>\n",
              "      <td>250.020872</td>\n",
              "      <td>7.431487e+05</td>\n",
              "      <td>17.419898</td>\n",
              "      <td>0.079617</td>\n",
              "      <td>0.056248</td>\n",
              "    </tr>\n",
              "    <tr>\n",
              "      <th>min</th>\n",
              "      <td>3.079300e+04</td>\n",
              "      <td>10.000000</td>\n",
              "      <td>1.000000</td>\n",
              "      <td>1.000000</td>\n",
              "      <td>1.000000</td>\n",
              "      <td>1.000000</td>\n",
              "      <td>1002.000000</td>\n",
              "      <td>1.290000e+02</td>\n",
              "      <td>1.000000</td>\n",
              "      <td>41.644694</td>\n",
              "      <td>-87.915285</td>\n",
              "    </tr>\n",
              "    <tr>\n",
              "      <th>25%</th>\n",
              "      <td>1.469024e+06</td>\n",
              "      <td>54615.000000</td>\n",
              "      <td>1.000000</td>\n",
              "      <td>17.000000</td>\n",
              "      <td>12.000000</td>\n",
              "      <td>8.000000</td>\n",
              "      <td>1010.000000</td>\n",
              "      <td>8.710900e+04</td>\n",
              "      <td>17.000000</td>\n",
              "      <td>41.834312</td>\n",
              "      <td>-87.719150</td>\n",
              "    </tr>\n",
              "    <tr>\n",
              "      <th>50%</th>\n",
              "      <td>1.778754e+06</td>\n",
              "      <td>248313.000000</td>\n",
              "      <td>1.000000</td>\n",
              "      <td>30.000000</td>\n",
              "      <td>26.000000</td>\n",
              "      <td>14.000000</td>\n",
              "      <td>1010.000000</td>\n",
              "      <td>1.442202e+06</td>\n",
              "      <td>28.000000</td>\n",
              "      <td>41.892679</td>\n",
              "      <td>-87.673321</td>\n",
              "    </tr>\n",
              "    <tr>\n",
              "      <th>75%</th>\n",
              "      <td>2.067578e+06</td>\n",
              "      <td>300243.500000</td>\n",
              "      <td>2.000000</td>\n",
              "      <td>42.000000</td>\n",
              "      <td>41.000000</td>\n",
              "      <td>19.000000</td>\n",
              "      <td>1011.000000</td>\n",
              "      <td>1.816581e+06</td>\n",
              "      <td>40.000000</td>\n",
              "      <td>41.938624</td>\n",
              "      <td>-87.639509</td>\n",
              "    </tr>\n",
              "    <tr>\n",
              "      <th>max</th>\n",
              "      <td>2.456551e+06</td>\n",
              "      <td>397444.000000</td>\n",
              "      <td>417.000000</td>\n",
              "      <td>50.000000</td>\n",
              "      <td>999.000000</td>\n",
              "      <td>181.000000</td>\n",
              "      <td>8340.000000</td>\n",
              "      <td>2.391410e+06</td>\n",
              "      <td>69.000000</td>\n",
              "      <td>42.022660</td>\n",
              "      <td>-87.525872</td>\n",
              "    </tr>\n",
              "  </tbody>\n",
              "</table>\n",
              "</div>\n",
              "      <button class=\"colab-df-convert\" onclick=\"convertToInteractive('df-8ed9ed0b-3f41-4416-b028-336bb38212f6')\"\n",
              "              title=\"Convert this dataframe to an interactive table.\"\n",
              "              style=\"display:none;\">\n",
              "        \n",
              "  <svg xmlns=\"http://www.w3.org/2000/svg\" height=\"24px\"viewBox=\"0 0 24 24\"\n",
              "       width=\"24px\">\n",
              "    <path d=\"M0 0h24v24H0V0z\" fill=\"none\"/>\n",
              "    <path d=\"M18.56 5.44l.94 2.06.94-2.06 2.06-.94-2.06-.94-.94-2.06-.94 2.06-2.06.94zm-11 1L8.5 8.5l.94-2.06 2.06-.94-2.06-.94L8.5 2.5l-.94 2.06-2.06.94zm10 10l.94 2.06.94-2.06 2.06-.94-2.06-.94-.94-2.06-.94 2.06-2.06.94z\"/><path d=\"M17.41 7.96l-1.37-1.37c-.4-.4-.92-.59-1.43-.59-.52 0-1.04.2-1.43.59L10.3 9.45l-7.72 7.72c-.78.78-.78 2.05 0 2.83L4 21.41c.39.39.9.59 1.41.59.51 0 1.02-.2 1.41-.59l7.78-7.78 2.81-2.81c.8-.78.8-2.07 0-2.86zM5.41 20L4 18.59l7.72-7.72 1.47 1.35L5.41 20z\"/>\n",
              "  </svg>\n",
              "      </button>\n",
              "      \n",
              "  <style>\n",
              "    .colab-df-container {\n",
              "      display:flex;\n",
              "      flex-wrap:wrap;\n",
              "      gap: 12px;\n",
              "    }\n",
              "\n",
              "    .colab-df-convert {\n",
              "      background-color: #E8F0FE;\n",
              "      border: none;\n",
              "      border-radius: 50%;\n",
              "      cursor: pointer;\n",
              "      display: none;\n",
              "      fill: #1967D2;\n",
              "      height: 32px;\n",
              "      padding: 0 0 0 0;\n",
              "      width: 32px;\n",
              "    }\n",
              "\n",
              "    .colab-df-convert:hover {\n",
              "      background-color: #E2EBFA;\n",
              "      box-shadow: 0px 1px 2px rgba(60, 64, 67, 0.3), 0px 1px 3px 1px rgba(60, 64, 67, 0.15);\n",
              "      fill: #174EA6;\n",
              "    }\n",
              "\n",
              "    [theme=dark] .colab-df-convert {\n",
              "      background-color: #3B4455;\n",
              "      fill: #D2E3FC;\n",
              "    }\n",
              "\n",
              "    [theme=dark] .colab-df-convert:hover {\n",
              "      background-color: #434B5C;\n",
              "      box-shadow: 0px 1px 3px 1px rgba(0, 0, 0, 0.15);\n",
              "      filter: drop-shadow(0px 1px 2px rgba(0, 0, 0, 0.3));\n",
              "      fill: #FFFFFF;\n",
              "    }\n",
              "  </style>\n",
              "\n",
              "      <script>\n",
              "        const buttonEl =\n",
              "          document.querySelector('#df-8ed9ed0b-3f41-4416-b028-336bb38212f6 button.colab-df-convert');\n",
              "        buttonEl.style.display =\n",
              "          google.colab.kernel.accessAllowed ? 'block' : 'none';\n",
              "\n",
              "        async function convertToInteractive(key) {\n",
              "          const element = document.querySelector('#df-8ed9ed0b-3f41-4416-b028-336bb38212f6');\n",
              "          const dataTable =\n",
              "            await google.colab.kernel.invokeFunction('convertToInteractive',\n",
              "                                                     [key], {});\n",
              "          if (!dataTable) return;\n",
              "\n",
              "          const docLinkHtml = 'Like what you see? Visit the ' +\n",
              "            '<a target=\"_blank\" href=https://colab.research.google.com/notebooks/data_table.ipynb>data table notebook</a>'\n",
              "            + ' to learn more about interactive tables.';\n",
              "          element.innerHTML = '';\n",
              "          dataTable['output_type'] = 'display_data';\n",
              "          await google.colab.output.renderOutput(dataTable, element);\n",
              "          const docLink = document.createElement('div');\n",
              "          docLink.innerHTML = docLinkHtml;\n",
              "          element.appendChild(docLink);\n",
              "        }\n",
              "      </script>\n",
              "    </div>\n",
              "  </div>\n",
              "  "
            ]
          },
          "metadata": {},
          "execution_count": 8
        }
      ]
    },
    {
      "cell_type": "code",
      "source": [
        "train.info()"
      ],
      "metadata": {
        "id": "X3ZvD6f1SpIb",
        "colab": {
          "base_uri": "https://localhost:8080/"
        },
        "outputId": "c3472f4b-7b1e-421b-f0ad-c16b501d8a35"
      },
      "execution_count": 9,
      "outputs": [
        {
          "output_type": "stream",
          "name": "stdout",
          "text": [
            "<class 'pandas.core.frame.DataFrame'>\n",
            "RangeIndex: 85895 entries, 0 to 85894\n",
            "Data columns (total 32 columns):\n",
            " #   Column                             Non-Null Count  Dtype  \n",
            "---  ------                             --------------  -----  \n",
            " 0   ID                                 85895 non-null  object \n",
            " 1   LICENSE ID                         85895 non-null  int64  \n",
            " 2   ACCOUNT NUMBER                     85895 non-null  int64  \n",
            " 3   SITE NUMBER                        85895 non-null  int64  \n",
            " 4   LEGAL NAME                         85895 non-null  object \n",
            " 5   DOING BUSINESS AS NAME             85894 non-null  object \n",
            " 6   ADDRESS                            85895 non-null  object \n",
            " 7   CITY                               85895 non-null  object \n",
            " 8   STATE                              85895 non-null  object \n",
            " 9   ZIP CODE                           85864 non-null  object \n",
            " 10  WARD                               36194 non-null  float64\n",
            " 11  PRECINCT                           29194 non-null  float64\n",
            " 12  WARD PRECINCT                      36195 non-null  object \n",
            " 13  POLICE DISTRICT                    31883 non-null  float64\n",
            " 14  LICENSE CODE                       85895 non-null  int64  \n",
            " 15  LICENSE DESCRIPTION                85895 non-null  object \n",
            " 16  LICENSE NUMBER                     85894 non-null  float64\n",
            " 17  APPLICATION TYPE                   85895 non-null  object \n",
            " 18  APPLICATION CREATED DATE           21235 non-null  object \n",
            " 19  APPLICATION REQUIREMENTS COMPLETE  85681 non-null  object \n",
            " 20  PAYMENT DATE                       84606 non-null  object \n",
            " 21  CONDITIONAL APPROVAL               85895 non-null  object \n",
            " 22  LICENSE TERM START DATE            85667 non-null  object \n",
            " 23  LICENSE TERM EXPIRATION DATE       85877 non-null  object \n",
            " 24  LICENSE APPROVED FOR ISSUANCE      79106 non-null  object \n",
            " 25  DATE ISSUED                        85895 non-null  object \n",
            " 26  LICENSE STATUS CHANGE DATE         30495 non-null  object \n",
            " 27  SSA                                9449 non-null   float64\n",
            " 28  LATITUDE                           38649 non-null  float64\n",
            " 29  LONGITUDE                          38649 non-null  float64\n",
            " 30  LOCATION                           38649 non-null  object \n",
            " 31  LICENSE STATUS                     85895 non-null  object \n",
            "dtypes: float64(7), int64(4), object(21)\n",
            "memory usage: 21.0+ MB\n"
          ]
        }
      ]
    },
    {
      "cell_type": "code",
      "source": [
        "train.skew()"
      ],
      "metadata": {
        "id": "DX4VuJUbStU1",
        "colab": {
          "base_uri": "https://localhost:8080/"
        },
        "outputId": "c08db0ee-785b-4eac-9dd7-dc6990e97565"
      },
      "execution_count": 10,
      "outputs": [
        {
          "output_type": "stream",
          "name": "stderr",
          "text": [
            "/usr/local/lib/python3.7/dist-packages/ipykernel_launcher.py:1: FutureWarning: Dropping of nuisance columns in DataFrame reductions (with 'numeric_only=None') is deprecated; in a future version this will raise TypeError.  Select only valid columns before calling the reduction.\n",
            "  \"\"\"Entry point for launching an IPython kernel.\n"
          ]
        },
        {
          "output_type": "execute_result",
          "data": {
            "text/plain": [
              "LICENSE ID         -0.280211\n",
              "ACCOUNT NUMBER     -0.269865\n",
              "SITE NUMBER        12.149178\n",
              "WARD               -0.382168\n",
              "PRECINCT            5.555225\n",
              "POLICE DISTRICT     1.051476\n",
              "LICENSE CODE        7.442521\n",
              "LICENSE NUMBER     -0.652406\n",
              "SSA                 0.231884\n",
              "LATITUDE           -0.670184\n",
              "LONGITUDE          -0.462313\n",
              "dtype: float64"
            ]
          },
          "metadata": {},
          "execution_count": 10
        }
      ]
    },
    {
      "cell_type": "code",
      "source": [
        "train.isnull().sum()"
      ],
      "metadata": {
        "colab": {
          "base_uri": "https://localhost:8080/"
        },
        "id": "poI2lsMYSz_k",
        "outputId": "ac0a0c13-a97d-4c9a-80a6-09cb1b1267f8"
      },
      "execution_count": 11,
      "outputs": [
        {
          "output_type": "execute_result",
          "data": {
            "text/plain": [
              "ID                                       0\n",
              "LICENSE ID                               0\n",
              "ACCOUNT NUMBER                           0\n",
              "SITE NUMBER                              0\n",
              "LEGAL NAME                               0\n",
              "DOING BUSINESS AS NAME                   1\n",
              "ADDRESS                                  0\n",
              "CITY                                     0\n",
              "STATE                                    0\n",
              "ZIP CODE                                31\n",
              "WARD                                 49701\n",
              "PRECINCT                             56701\n",
              "WARD PRECINCT                        49700\n",
              "POLICE DISTRICT                      54012\n",
              "LICENSE CODE                             0\n",
              "LICENSE DESCRIPTION                      0\n",
              "LICENSE NUMBER                           1\n",
              "APPLICATION TYPE                         0\n",
              "APPLICATION CREATED DATE             64660\n",
              "APPLICATION REQUIREMENTS COMPLETE      214\n",
              "PAYMENT DATE                          1289\n",
              "CONDITIONAL APPROVAL                     0\n",
              "LICENSE TERM START DATE                228\n",
              "LICENSE TERM EXPIRATION DATE            18\n",
              "LICENSE APPROVED FOR ISSUANCE         6789\n",
              "DATE ISSUED                              0\n",
              "LICENSE STATUS CHANGE DATE           55400\n",
              "SSA                                  76446\n",
              "LATITUDE                             47246\n",
              "LONGITUDE                            47246\n",
              "LOCATION                             47246\n",
              "LICENSE STATUS                           0\n",
              "dtype: int64"
            ]
          },
          "metadata": {},
          "execution_count": 11
        }
      ]
    },
    {
      "cell_type": "code",
      "source": [
        "test.isnull().sum()"
      ],
      "metadata": {
        "colab": {
          "base_uri": "https://localhost:8080/"
        },
        "id": "0EqejKNIs8wx",
        "outputId": "9e059835-8ded-4d3e-cefb-55268b8336bf"
      },
      "execution_count": 12,
      "outputs": [
        {
          "output_type": "execute_result",
          "data": {
            "text/plain": [
              "ID                                       0\n",
              "LICENSE ID                               0\n",
              "ACCOUNT NUMBER                           0\n",
              "SITE NUMBER                              0\n",
              "LEGAL NAME                               0\n",
              "DOING BUSINESS AS NAME                   2\n",
              "ADDRESS                                  0\n",
              "CITY                                     0\n",
              "STATE                                    0\n",
              "ZIP CODE                                12\n",
              "WARD                                   626\n",
              "PRECINCT                              1578\n",
              "WARD PRECINCT                          616\n",
              "POLICE DISTRICT                       1475\n",
              "LICENSE CODE                             0\n",
              "LICENSE DESCRIPTION                      0\n",
              "LICENSE NUMBER                           0\n",
              "APPLICATION TYPE                         0\n",
              "APPLICATION CREATED DATE             44587\n",
              "APPLICATION REQUIREMENTS COMPLETE      428\n",
              "PAYMENT DATE                          1051\n",
              "CONDITIONAL APPROVAL                     0\n",
              "LICENSE TERM START DATE                118\n",
              "LICENSE TERM EXPIRATION DATE             6\n",
              "LICENSE APPROVED FOR ISSUANCE         2379\n",
              "DATE ISSUED                              0\n",
              "LICENSE STATUS CHANGE DATE           23246\n",
              "SSA                                  41331\n",
              "LATITUDE                               910\n",
              "LONGITUDE                              910\n",
              "LOCATION                               910\n",
              "dtype: int64"
            ]
          },
          "metadata": {},
          "execution_count": 12
        }
      ]
    },
    {
      "cell_type": "code",
      "source": [
        "train.nunique()"
      ],
      "metadata": {
        "id": "uJIcoPHeTOFa",
        "colab": {
          "base_uri": "https://localhost:8080/"
        },
        "outputId": "5cf85387-3f5f-4705-dd8f-fffad6744c64"
      },
      "execution_count": 13,
      "outputs": [
        {
          "output_type": "execute_result",
          "data": {
            "text/plain": [
              "ID                                   85895\n",
              "LICENSE ID                           85895\n",
              "ACCOUNT NUMBER                       38897\n",
              "SITE NUMBER                            177\n",
              "LEGAL NAME                           38744\n",
              "DOING BUSINESS AS NAME               41686\n",
              "ADDRESS                              42146\n",
              "CITY                                  1223\n",
              "STATE                                   54\n",
              "ZIP CODE                              2456\n",
              "WARD                                    50\n",
              "PRECINCT                                76\n",
              "WARD PRECINCT                         2383\n",
              "POLICE DISTRICT                         28\n",
              "LICENSE CODE                           106\n",
              "LICENSE DESCRIPTION                    106\n",
              "LICENSE NUMBER                       49768\n",
              "APPLICATION TYPE                         5\n",
              "APPLICATION CREATED DATE              2899\n",
              "APPLICATION REQUIREMENTS COMPLETE     3078\n",
              "PAYMENT DATE                          4356\n",
              "CONDITIONAL APPROVAL                     2\n",
              "LICENSE TERM START DATE               2825\n",
              "LICENSE TERM EXPIRATION DATE           297\n",
              "LICENSE APPROVED FOR ISSUANCE         4223\n",
              "DATE ISSUED                           3498\n",
              "LICENSE STATUS CHANGE DATE            3152\n",
              "SSA                                     53\n",
              "LATITUDE                             21386\n",
              "LONGITUDE                            21388\n",
              "LOCATION                             21388\n",
              "LICENSE STATUS                           5\n",
              "dtype: int64"
            ]
          },
          "metadata": {},
          "execution_count": 13
        }
      ]
    },
    {
      "cell_type": "code",
      "source": [
        ""
      ],
      "metadata": {
        "id": "GKKpj4gAobXh"
      },
      "execution_count": 13,
      "outputs": []
    },
    {
      "cell_type": "code",
      "source": [
        "train[train.WARD.notnull()].WARD.unique()"
      ],
      "metadata": {
        "id": "i8xVhCa5U_Vs",
        "colab": {
          "base_uri": "https://localhost:8080/"
        },
        "outputId": "1060fa2d-b424-47dd-f792-e6e90c2d9e18"
      },
      "execution_count": 14,
      "outputs": [
        {
          "output_type": "execute_result",
          "data": {
            "text/plain": [
              "array([22., 33., 25., 35.,  2., 18., 17., 45., 39., 42., 30., 34., 43.,\n",
              "       49., 10., 32.,  1., 31., 27., 20., 11., 40., 12.,  7.,  6., 28.,\n",
              "       44., 48., 29., 37., 46., 47.,  3., 38., 14., 13., 16.,  5., 15.,\n",
              "       21.,  8., 36.,  4., 23., 26., 41., 24., 50., 19.,  9.])"
            ]
          },
          "metadata": {},
          "execution_count": 14
        }
      ]
    },
    {
      "cell_type": "code",
      "source": [
        "import seaborn as sns\n",
        "sns.countplot(train[\"LICENSE STATUS\"])"
      ],
      "metadata": {
        "colab": {
          "base_uri": "https://localhost:8080/",
          "height": 351
        },
        "id": "Yi_iUAHinK_q",
        "outputId": "66233fb3-0c69-45bb-94b1-f4c11f4c6c58"
      },
      "execution_count": 15,
      "outputs": [
        {
          "output_type": "stream",
          "name": "stderr",
          "text": [
            "/usr/local/lib/python3.7/dist-packages/seaborn/_decorators.py:43: FutureWarning: Pass the following variable as a keyword arg: x. From version 0.12, the only valid positional argument will be `data`, and passing other arguments without an explicit keyword will result in an error or misinterpretation.\n",
            "  FutureWarning\n"
          ]
        },
        {
          "output_type": "execute_result",
          "data": {
            "text/plain": [
              "<matplotlib.axes._subplots.AxesSubplot at 0x7ffb61c3fbd0>"
            ]
          },
          "metadata": {},
          "execution_count": 15
        },
        {
          "output_type": "display_data",
          "data": {
            "text/plain": [
              "<Figure size 432x288 with 1 Axes>"
            ],
            "image/png": "[encoded data removed]"
          },
          "metadata": {
            "needs_background": "light"
          }
        }
      ]
    },
    {
      "cell_type": "code",
      "source": [
        "train[\"LICENSE STATUS\"].value_counts()"
      ],
      "metadata": {
        "colab": {
          "base_uri": "https://localhost:8080/"
        },
        "id": "JN1I2VnWl-Bb",
        "outputId": "0647401e-7aa9-4b88-9a63-7657a482fc05"
      },
      "execution_count": 16,
      "outputs": [
        {
          "output_type": "execute_result",
          "data": {
            "text/plain": [
              "AAI    55400\n",
              "AAC    30200\n",
              "REV      290\n",
              "REA        3\n",
              "INQ        2\n",
              "Name: LICENSE STATUS, dtype: int64"
            ]
          },
          "metadata": {},
          "execution_count": 16
        }
      ]
    },
    {
      "cell_type": "code",
      "source": [
        "# train.corr()\n",
        "import matplotlib.pyplot as plt\n",
        "plt.figure(figsize=(10,8))\n",
        "sns.heatmap(train.corr(),annot=True)\n",
        "plt.show()"
      ],
      "metadata": {
        "colab": {
          "base_uri": "https://localhost:8080/",
          "height": 573
        },
        "id": "-_8b6QjEqLl6",
        "outputId": "fd650efc-8fb0-4dd1-a2be-70a493afb195"
      },
      "execution_count": 17,
      "outputs": [
        {
          "output_type": "display_data",
          "data": {
            "text/plain": [
              "<Figure size 720x576 with 2 Axes>"
            ],
            "image/png": "[encoded data removed]"
          },
          "metadata": {
            "needs_background": "light"
          }
        }
      ]
    },
    {
      "cell_type": "code",
      "source": [
        "train.columns.size"
      ],
      "metadata": {
        "colab": {
          "base_uri": "https://localhost:8080/"
        },
        "id": "d-mOB4N5pYPe",
        "outputId": "6042f3cb-fe79-4034-b017-c80a6b5f9a73"
      },
      "execution_count": 18,
      "outputs": [
        {
          "output_type": "execute_result",
          "data": {
            "text/plain": [
              "32"
            ]
          },
          "metadata": {},
          "execution_count": 18
        }
      ]
    },
    {
      "cell_type": "code",
      "source": [
        "num_cols=[\"\"]\n",
        "cat_cols=[\"\"]"
      ],
      "metadata": {
        "id": "nuR3wZn-r9gs"
      },
      "execution_count": 19,
      "outputs": []
    },
    {
      "cell_type": "code",
      "source": [
        "train[\"LOCATION\"][0]"
      ],
      "metadata": {
        "colab": {
          "base_uri": "https://localhost:8080/",
          "height": 53
        },
        "id": "CI6tm5ZnsEib",
        "outputId": "87543892-1f57-413c-87e4-81d5f3667b2d"
      },
      "execution_count": 20,
      "outputs": [
        {
          "output_type": "execute_result",
          "data": {
            "text/plain": [
              "'{\\'latitude\\': \\'41.843612879431845\\', \\'longitude\\': \\'-87.71461847216574\\', \\'needs_recoding\\': False, \\'human_address\\': \\'{\"address\":\"\",\"city\":\"\",\"state\":\"\",\"zip\":\"\"}\\'}'"
            ],
            "application/vnd.google.colaboratory.intrinsic+json": {
              "type": "string"
            }
          },
          "metadata": {},
          "execution_count": 20
        }
      ]
    },
    {
      "cell_type": "code",
      "source": [
        "train[\"APPLICATION REQUIREMENTS COMPLETE\"].value_counts()"
      ],
      "metadata": {
        "colab": {
          "base_uri": "https://localhost:8080/"
        },
        "id": "pwPd3Ix_wNMo",
        "outputId": "fb09aebf-58e1-4b1e-8ef2-8938f433bbb3"
      },
      "execution_count": 21,
      "outputs": [
        {
          "output_type": "execute_result",
          "data": {
            "text/plain": [
              "2003-12-15T00:00:00    4803\n",
              "2006-12-20T00:00:00    4281\n",
              "2005-12-21T00:00:00    4194\n",
              "2004-12-20T00:00:00    4168\n",
              "2002-12-17T00:00:00    3751\n",
              "                       ... \n",
              "2001-12-14T00:00:00       1\n",
              "2005-11-01T00:00:00       1\n",
              "2012-01-29T00:00:00       1\n",
              "2000-11-27T00:00:00       1\n",
              "2001-11-08T00:00:00       1\n",
              "Name: APPLICATION REQUIREMENTS COMPLETE, Length: 3078, dtype: int64"
            ]
          },
          "metadata": {},
          "execution_count": 21
        }
      ]
    },
    {
      "cell_type": "code",
      "source": [
        "train[\"PAYMENT DATE\"].value_counts()"
      ],
      "metadata": {
        "colab": {
          "base_uri": "https://localhost:8080/"
        },
        "id": "CxRAv4JDr9nM",
        "outputId": "fac9973e-0c54-41ff-ddef-ce28fd1ef0db"
      },
      "execution_count": 22,
      "outputs": [
        {
          "output_type": "execute_result",
          "data": {
            "text/plain": [
              "2006-01-23T00:00:00    353\n",
              "2004-01-20T00:00:00    345\n",
              "2005-01-19T00:00:00    329\n",
              "2004-01-12T00:00:00    280\n",
              "2006-01-30T00:00:00    277\n",
              "                      ... \n",
              "2001-10-09T00:00:00      1\n",
              "2014-01-03T00:00:00      1\n",
              "2013-12-29T00:00:00      1\n",
              "2010-08-07T00:00:00      1\n",
              "2013-01-25T00:00:00      1\n",
              "Name: PAYMENT DATE, Length: 4356, dtype: int64"
            ]
          },
          "metadata": {},
          "execution_count": 22
        }
      ]
    },
    {
      "cell_type": "markdown",
      "source": [
        "#Datapreprocessing"
      ],
      "metadata": {
        "id": "J1eCfIkUpoXx"
      }
    },
    {
      "cell_type": "code",
      "source": [
        "col_list=['APPLICATION CREATED DATE','SSA','LICENSE ID','ADDRESS','LOCATION','ID']"
      ],
      "metadata": {
        "id": "UyaJ_kD_ncw1"
      },
      "execution_count": 23,
      "outputs": []
    },
    {
      "cell_type": "code",
      "source": [
        "train.drop(columns=col_list,axis=1,inplace=True,)\n",
        "test.drop(columns=col_list,axis=1,inplace=True)"
      ],
      "metadata": {
        "id": "9zrZBvCetdOR"
      },
      "execution_count": 24,
      "outputs": []
    },
    {
      "cell_type": "code",
      "source": [
        "print(train.columns.size)\n",
        "print(test.columns.size)"
      ],
      "metadata": {
        "colab": {
          "base_uri": "https://localhost:8080/"
        },
        "id": "LjyHryNXtqxq",
        "outputId": "83471bb0-739d-409b-f756-2d403f689d60"
      },
      "execution_count": 25,
      "outputs": [
        {
          "output_type": "stream",
          "name": "stdout",
          "text": [
            "26\n",
            "25\n"
          ]
        }
      ]
    },
    {
      "cell_type": "code",
      "source": [
        "train.head(2)"
      ],
      "metadata": {
        "colab": {
          "base_uri": "https://localhost:8080/",
          "height": 327
        },
        "id": "pY583x9tyQh-",
        "outputId": "8f2b930a-3334-4735-cd88-d52d08229e9b"
      },
      "execution_count": 26,
      "outputs": [
        {
          "output_type": "execute_result",
          "data": {
            "text/plain": [
              "   ACCOUNT NUMBER  SITE NUMBER           LEGAL NAME DOING BUSINESS AS NAME  \\\n",
              "0           32811            1         CARMEN CAHUE  CLAUDIA'S BRIDAL SHOP   \n",
              "1          262311           29  ISLA TROPICAL, INC.          ISLA TROPICAL   \n",
              "\n",
              "      CITY STATE ZIP CODE  WARD  PRECINCT WARD PRECINCT  ...  \\\n",
              "0  CHICAGO    IL  60623.0  22.0      28.0         22-28  ...   \n",
              "1  CHICAGO    IL    60618  33.0      23.0         33-23  ...   \n",
              "\n",
              "          PAYMENT DATE  CONDITIONAL APPROVAL LICENSE TERM START DATE  \\\n",
              "0  2002-08-21T00:00:00                     N     2002-08-16T00:00:00   \n",
              "1  2005-11-03T00:00:00                     N     2005-11-16T00:00:00   \n",
              "\n",
              "   LICENSE TERM EXPIRATION DATE LICENSE APPROVED FOR ISSUANCE  \\\n",
              "0           2003-08-15T00:00:00           2002-08-21T00:00:00   \n",
              "1           2006-11-15T00:00:00           2006-04-05T00:00:00   \n",
              "\n",
              "           DATE ISSUED LICENSE STATUS CHANGE DATE   LATITUDE  LONGITUDE  \\\n",
              "0  2006-04-11T00:00:00                        NaN  41.843613 -87.714618   \n",
              "1  2006-06-12T00:00:00        2006-06-15T00:00:00  41.961132 -87.699626   \n",
              "\n",
              "  LICENSE STATUS  \n",
              "0            AAI  \n",
              "1            AAC  \n",
              "\n",
              "[2 rows x 26 columns]"
            ],
            "text/html": [
              "\n",
              "  <div id=\"df-746de2d3-f941-4931-80c0-3e481b510122\">\n",
              "    <div class=\"colab-df-container\">\n",
              "      <div>\n",
              "<style scoped>\n",
              "    .dataframe tbody tr th:only-of-type {\n",
              "        vertical-align: middle;\n",
              "    }\n",
              "\n",
              "    .dataframe tbody tr th {\n",
              "        vertical-align: top;\n",
              "    }\n",
              "\n",
              "    .dataframe thead th {\n",
              "        text-align: right;\n",
              "    }\n",
              "</style>\n",
              "<table border=\"1\" class=\"dataframe\">\n",
              "  <thead>\n",
              "    <tr style=\"text-align: right;\">\n",
              "      <th></th>\n",
              "      <th>ACCOUNT NUMBER</th>\n",
              "      <th>SITE NUMBER</th>\n",
              "      <th>LEGAL NAME</th>\n",
              "      <th>DOING BUSINESS AS NAME</th>\n",
              "      <th>CITY</th>\n",
              "      <th>STATE</th>\n",
              "      <th>ZIP CODE</th>\n",
              "      <th>WARD</th>\n",
              "      <th>PRECINCT</th>\n",
              "      <th>WARD PRECINCT</th>\n",
              "      <th>...</th>\n",
              "      <th>PAYMENT DATE</th>\n",
              "      <th>CONDITIONAL APPROVAL</th>\n",
              "      <th>LICENSE TERM START DATE</th>\n",
              "      <th>LICENSE TERM EXPIRATION DATE</th>\n",
              "      <th>LICENSE APPROVED FOR ISSUANCE</th>\n",
              "      <th>DATE ISSUED</th>\n",
              "      <th>LICENSE STATUS CHANGE DATE</th>\n",
              "      <th>LATITUDE</th>\n",
              "      <th>LONGITUDE</th>\n",
              "      <th>LICENSE STATUS</th>\n",
              "    </tr>\n",
              "  </thead>\n",
              "  <tbody>\n",
              "    <tr>\n",
              "      <th>0</th>\n",
              "      <td>32811</td>\n",
              "      <td>1</td>\n",
              "      <td>CARMEN CAHUE</td>\n",
              "      <td>CLAUDIA'S BRIDAL SHOP</td>\n",
              "      <td>CHICAGO</td>\n",
              "      <td>IL</td>\n",
              "      <td>60623.0</td>\n",
              "      <td>22.0</td>\n",
              "      <td>28.0</td>\n",
              "      <td>22-28</td>\n",
              "      <td>...</td>\n",
              "      <td>2002-08-21T00:00:00</td>\n",
              "      <td>N</td>\n",
              "      <td>2002-08-16T00:00:00</td>\n",
              "      <td>2003-08-15T00:00:00</td>\n",
              "      <td>2002-08-21T00:00:00</td>\n",
              "      <td>2006-04-11T00:00:00</td>\n",
              "      <td>NaN</td>\n",
              "      <td>41.843613</td>\n",
              "      <td>-87.714618</td>\n",
              "      <td>AAI</td>\n",
              "    </tr>\n",
              "    <tr>\n",
              "      <th>1</th>\n",
              "      <td>262311</td>\n",
              "      <td>29</td>\n",
              "      <td>ISLA TROPICAL, INC.</td>\n",
              "      <td>ISLA TROPICAL</td>\n",
              "      <td>CHICAGO</td>\n",
              "      <td>IL</td>\n",
              "      <td>60618</td>\n",
              "      <td>33.0</td>\n",
              "      <td>23.0</td>\n",
              "      <td>33-23</td>\n",
              "      <td>...</td>\n",
              "      <td>2005-11-03T00:00:00</td>\n",
              "      <td>N</td>\n",
              "      <td>2005-11-16T00:00:00</td>\n",
              "      <td>2006-11-15T00:00:00</td>\n",
              "      <td>2006-04-05T00:00:00</td>\n",
              "      <td>2006-06-12T00:00:00</td>\n",
              "      <td>2006-06-15T00:00:00</td>\n",
              "      <td>41.961132</td>\n",
              "      <td>-87.699626</td>\n",
              "      <td>AAC</td>\n",
              "    </tr>\n",
              "  </tbody>\n",
              "</table>\n",
              "<p>2 rows × 26 columns</p>\n",
              "</div>\n",
              "      <button class=\"colab-df-convert\" onclick=\"convertToInteractive('df-746de2d3-f941-4931-80c0-3e481b510122')\"\n",
              "              title=\"Convert this dataframe to an interactive table.\"\n",
              "              style=\"display:none;\">\n",
              "        \n",
              "  <svg xmlns=\"http://www.w3.org/2000/svg\" height=\"24px\"viewBox=\"0 0 24 24\"\n",
              "       width=\"24px\">\n",
              "    <path d=\"M0 0h24v24H0V0z\" fill=\"none\"/>\n",
              "    <path d=\"M18.56 5.44l.94 2.06.94-2.06 2.06-.94-2.06-.94-.94-2.06-.94 2.06-2.06.94zm-11 1L8.5 8.5l.94-2.06 2.06-.94-2.06-.94L8.5 2.5l-.94 2.06-2.06.94zm10 10l.94 2.06.94-2.06 2.06-.94-2.06-.94-.94-2.06-.94 2.06-2.06.94z\"/><path d=\"M17.41 7.96l-1.37-1.37c-.4-.4-.92-.59-1.43-.59-.52 0-1.04.2-1.43.59L10.3 9.45l-7.72 7.72c-.78.78-.78 2.05 0 2.83L4 21.41c.39.39.9.59 1.41.59.51 0 1.02-.2 1.41-.59l7.78-7.78 2.81-2.81c.8-.78.8-2.07 0-2.86zM5.41 20L4 18.59l7.72-7.72 1.47 1.35L5.41 20z\"/>\n",
              "  </svg>\n",
              "      </button>\n",
              "      \n",
              "  <style>\n",
              "    .colab-df-container {\n",
              "      display:flex;\n",
              "      flex-wrap:wrap;\n",
              "      gap: 12px;\n",
              "    }\n",
              "\n",
              "    .colab-df-convert {\n",
              "      background-color: #E8F0FE;\n",
              "      border: none;\n",
              "      border-radius: 50%;\n",
              "      cursor: pointer;\n",
              "      display: none;\n",
              "      fill: #1967D2;\n",
              "      height: 32px;\n",
              "      padding: 0 0 0 0;\n",
              "      width: 32px;\n",
              "    }\n",
              "\n",
              "    .colab-df-convert:hover {\n",
              "      background-color: #E2EBFA;\n",
              "      box-shadow: 0px 1px 2px rgba(60, 64, 67, 0.3), 0px 1px 3px 1px rgba(60, 64, 67, 0.15);\n",
              "      fill: #174EA6;\n",
              "    }\n",
              "\n",
              "    [theme=dark] .colab-df-convert {\n",
              "      background-color: #3B4455;\n",
              "      fill: #D2E3FC;\n",
              "    }\n",
              "\n",
              "    [theme=dark] .colab-df-convert:hover {\n",
              "      background-color: #434B5C;\n",
              "      box-shadow: 0px 1px 3px 1px rgba(0, 0, 0, 0.15);\n",
              "      filter: drop-shadow(0px 1px 2px rgba(0, 0, 0, 0.3));\n",
              "      fill: #FFFFFF;\n",
              "    }\n",
              "  </style>\n",
              "\n",
              "      <script>\n",
              "        const buttonEl =\n",
              "          document.querySelector('#df-746de2d3-f941-4931-80c0-3e481b510122 button.colab-df-convert');\n",
              "        buttonEl.style.display =\n",
              "          google.colab.kernel.accessAllowed ? 'block' : 'none';\n",
              "\n",
              "        async function convertToInteractive(key) {\n",
              "          const element = document.querySelector('#df-746de2d3-f941-4931-80c0-3e481b510122');\n",
              "          const dataTable =\n",
              "            await google.colab.kernel.invokeFunction('convertToInteractive',\n",
              "                                                     [key], {});\n",
              "          if (!dataTable) return;\n",
              "\n",
              "          const docLinkHtml = 'Like what you see? Visit the ' +\n",
              "            '<a target=\"_blank\" href=https://colab.research.google.com/notebooks/data_table.ipynb>data table notebook</a>'\n",
              "            + ' to learn more about interactive tables.';\n",
              "          element.innerHTML = '';\n",
              "          dataTable['output_type'] = 'display_data';\n",
              "          await google.colab.output.renderOutput(dataTable, element);\n",
              "          const docLink = document.createElement('div');\n",
              "          docLink.innerHTML = docLinkHtml;\n",
              "          element.appendChild(docLink);\n",
              "        }\n",
              "      </script>\n",
              "    </div>\n",
              "  </div>\n",
              "  "
            ]
          },
          "metadata": {},
          "execution_count": 26
        }
      ]
    },
    {
      "cell_type": "code",
      "source": [
        "def conv_date(date_col):\n",
        "  for i in date_col:\n",
        "    train[i]= pd.to_datetime(train[i])\n",
        "    test[i]= pd.to_datetime(test[i])"
      ],
      "metadata": {
        "id": "PIbJxIOE1C55"
      },
      "execution_count": 27,
      "outputs": []
    },
    {
      "cell_type": "code",
      "source": [
        "date_col=[\"DATE ISSUED\",\"LICENSE TERM START DATE\",\"LICENSE STATUS CHANGE DATE\",\"LICENSE TERM EXPIRATION DATE\",\"PAYMENT DATE\",\"APPLICATION REQUIREMENTS COMPLETE\",\"LICENSE APPROVED FOR ISSUANCE\"]"
      ],
      "metadata": {
        "id": "hudwXYeOvzup"
      },
      "execution_count": 28,
      "outputs": []
    },
    {
      "cell_type": "code",
      "source": [
        "conv_date(date_col)"
      ],
      "metadata": {
        "id": "Oms99YF9zPCp"
      },
      "execution_count": 29,
      "outputs": []
    },
    {
      "cell_type": "code",
      "source": [
        "train[date_col]"
      ],
      "metadata": {
        "colab": {
          "base_uri": "https://localhost:8080/",
          "height": 485
        },
        "id": "C07hWLN3zZLy",
        "outputId": "54f1e636-35f6-4b4e-9f8a-a7ecc73d14b7"
      },
      "execution_count": 30,
      "outputs": [
        {
          "output_type": "execute_result",
          "data": {
            "text/plain": [
              "      DATE ISSUED LICENSE TERM START DATE LICENSE STATUS CHANGE DATE  \\\n",
              "0      2006-04-11              2002-08-16                        NaT   \n",
              "1      2006-06-12              2005-11-16                 2006-06-15   \n",
              "2      2009-07-22              2009-07-22                        NaT   \n",
              "3      2004-02-11              2004-02-11                        NaT   \n",
              "4      2008-06-05              2008-05-16                        NaT   \n",
              "...           ...                     ...                        ...   \n",
              "85890  2012-05-08              2012-05-16                 2012-12-29   \n",
              "85891  2007-05-22              2007-05-22                        NaT   \n",
              "85892  2009-12-08              2009-01-16                        NaT   \n",
              "85893  2011-10-11              2011-10-16                 2012-05-08   \n",
              "85894  2004-02-09              2004-02-16                 2005-01-07   \n",
              "\n",
              "      LICENSE TERM EXPIRATION DATE PAYMENT DATE  \\\n",
              "0                       2003-08-15   2002-08-21   \n",
              "1                       2006-11-15   2005-11-03   \n",
              "2                       2011-07-15   2009-07-22   \n",
              "3                       2005-02-15   2004-02-10   \n",
              "4                       2010-05-15   2008-06-04   \n",
              "...                            ...          ...   \n",
              "85890                   2014-05-15   2012-05-07   \n",
              "85891                   2009-06-15   2007-05-22   \n",
              "85892                   2011-01-15   2009-01-09   \n",
              "85893                   2013-10-15   2011-10-03   \n",
              "85894                   2005-02-15   2004-02-06   \n",
              "\n",
              "      APPLICATION REQUIREMENTS COMPLETE LICENSE APPROVED FOR ISSUANCE  \n",
              "0                            2002-06-28                    2002-08-21  \n",
              "1                            2005-09-22                    2006-04-05  \n",
              "2                            2009-07-22                    2009-07-22  \n",
              "3                            2004-02-10                    2004-02-10  \n",
              "4                            2008-03-24                    2008-06-04  \n",
              "...                                 ...                           ...  \n",
              "85890                        2012-03-15                    2012-05-07  \n",
              "85891                        2007-05-22                    2007-05-22  \n",
              "85892                        2008-11-14                    2009-01-09  \n",
              "85893                        2011-08-15                    2011-10-03  \n",
              "85894                        2003-12-15                    2003-12-22  \n",
              "\n",
              "[85895 rows x 7 columns]"
            ],
            "text/html": [
              "\n",
              "  <div id=\"df-f42655c1-e0e5-40ca-88a1-09677d3f1aef\">\n",
              "    <div class=\"colab-df-container\">\n",
              "      <div>\n",
              "<style scoped>\n",
              "    .dataframe tbody tr th:only-of-type {\n",
              "        vertical-align: middle;\n",
              "    }\n",
              "\n",
              "    .dataframe tbody tr th {\n",
              "        vertical-align: top;\n",
              "    }\n",
              "\n",
              "    .dataframe thead th {\n",
              "        text-align: right;\n",
              "    }\n",
              "</style>\n",
              "<table border=\"1\" class=\"dataframe\">\n",
              "  <thead>\n",
              "    <tr style=\"text-align: right;\">\n",
              "      <th></th>\n",
              "      <th>DATE ISSUED</th>\n",
              "      <th>LICENSE TERM START DATE</th>\n",
              "      <th>LICENSE STATUS CHANGE DATE</th>\n",
              "      <th>LICENSE TERM EXPIRATION DATE</th>\n",
              "      <th>PAYMENT DATE</th>\n",
              "      <th>APPLICATION REQUIREMENTS COMPLETE</th>\n",
              "      <th>LICENSE APPROVED FOR ISSUANCE</th>\n",
              "    </tr>\n",
              "  </thead>\n",
              "  <tbody>\n",
              "    <tr>\n",
              "      <th>0</th>\n",
              "      <td>2006-04-11</td>\n",
              "      <td>2002-08-16</td>\n",
              "      <td>NaT</td>\n",
              "      <td>2003-08-15</td>\n",
              "      <td>2002-08-21</td>\n",
              "      <td>2002-06-28</td>\n",
              "      <td>2002-08-21</td>\n",
              "    </tr>\n",
              "    <tr>\n",
              "      <th>1</th>\n",
              "      <td>2006-06-12</td>\n",
              "      <td>2005-11-16</td>\n",
              "      <td>2006-06-15</td>\n",
              "      <td>2006-11-15</td>\n",
              "      <td>2005-11-03</td>\n",
              "      <td>2005-09-22</td>\n",
              "      <td>2006-04-05</td>\n",
              "    </tr>\n",
              "    <tr>\n",
              "      <th>2</th>\n",
              "      <td>2009-07-22</td>\n",
              "      <td>2009-07-22</td>\n",
              "      <td>NaT</td>\n",
              "      <td>2011-07-15</td>\n",
              "      <td>2009-07-22</td>\n",
              "      <td>2009-07-22</td>\n",
              "      <td>2009-07-22</td>\n",
              "    </tr>\n",
              "    <tr>\n",
              "      <th>3</th>\n",
              "      <td>2004-02-11</td>\n",
              "      <td>2004-02-11</td>\n",
              "      <td>NaT</td>\n",
              "      <td>2005-02-15</td>\n",
              "      <td>2004-02-10</td>\n",
              "      <td>2004-02-10</td>\n",
              "      <td>2004-02-10</td>\n",
              "    </tr>\n",
              "    <tr>\n",
              "      <th>4</th>\n",
              "      <td>2008-06-05</td>\n",
              "      <td>2008-05-16</td>\n",
              "      <td>NaT</td>\n",
              "      <td>2010-05-15</td>\n",
              "      <td>2008-06-04</td>\n",
              "      <td>2008-03-24</td>\n",
              "      <td>2008-06-04</td>\n",
              "    </tr>\n",
              "    <tr>\n",
              "      <th>...</th>\n",
              "      <td>...</td>\n",
              "      <td>...</td>\n",
              "      <td>...</td>\n",
              "      <td>...</td>\n",
              "      <td>...</td>\n",
              "      <td>...</td>\n",
              "      <td>...</td>\n",
              "    </tr>\n",
              "    <tr>\n",
              "      <th>85890</th>\n",
              "      <td>2012-05-08</td>\n",
              "      <td>2012-05-16</td>\n",
              "      <td>2012-12-29</td>\n",
              "      <td>2014-05-15</td>\n",
              "      <td>2012-05-07</td>\n",
              "      <td>2012-03-15</td>\n",
              "      <td>2012-05-07</td>\n",
              "    </tr>\n",
              "    <tr>\n",
              "      <th>85891</th>\n",
              "      <td>2007-05-22</td>\n",
              "      <td>2007-05-22</td>\n",
              "      <td>NaT</td>\n",
              "      <td>2009-06-15</td>\n",
              "      <td>2007-05-22</td>\n",
              "      <td>2007-05-22</td>\n",
              "      <td>2007-05-22</td>\n",
              "    </tr>\n",
              "    <tr>\n",
              "      <th>85892</th>\n",
              "      <td>2009-12-08</td>\n",
              "      <td>2009-01-16</td>\n",
              "      <td>NaT</td>\n",
              "      <td>2011-01-15</td>\n",
              "      <td>2009-01-09</td>\n",
              "      <td>2008-11-14</td>\n",
              "      <td>2009-01-09</td>\n",
              "    </tr>\n",
              "    <tr>\n",
              "      <th>85893</th>\n",
              "      <td>2011-10-11</td>\n",
              "      <td>2011-10-16</td>\n",
              "      <td>2012-05-08</td>\n",
              "      <td>2013-10-15</td>\n",
              "      <td>2011-10-03</td>\n",
              "      <td>2011-08-15</td>\n",
              "      <td>2011-10-03</td>\n",
              "    </tr>\n",
              "    <tr>\n",
              "      <th>85894</th>\n",
              "      <td>2004-02-09</td>\n",
              "      <td>2004-02-16</td>\n",
              "      <td>2005-01-07</td>\n",
              "      <td>2005-02-15</td>\n",
              "      <td>2004-02-06</td>\n",
              "      <td>2003-12-15</td>\n",
              "      <td>2003-12-22</td>\n",
              "    </tr>\n",
              "  </tbody>\n",
              "</table>\n",
              "<p>85895 rows × 7 columns</p>\n",
              "</div>\n",
              "      <button class=\"colab-df-convert\" onclick=\"convertToInteractive('df-f42655c1-e0e5-40ca-88a1-09677d3f1aef')\"\n",
              "              title=\"Convert this dataframe to an interactive table.\"\n",
              "              style=\"display:none;\">\n",
              "        \n",
              "  <svg xmlns=\"http://www.w3.org/2000/svg\" height=\"24px\"viewBox=\"0 0 24 24\"\n",
              "       width=\"24px\">\n",
              "    <path d=\"M0 0h24v24H0V0z\" fill=\"none\"/>\n",
              "    <path d=\"M18.56 5.44l.94 2.06.94-2.06 2.06-.94-2.06-.94-.94-2.06-.94 2.06-2.06.94zm-11 1L8.5 8.5l.94-2.06 2.06-.94-2.06-.94L8.5 2.5l-.94 2.06-2.06.94zm10 10l.94 2.06.94-2.06 2.06-.94-2.06-.94-.94-2.06-.94 2.06-2.06.94z\"/><path d=\"M17.41 7.96l-1.37-1.37c-.4-.4-.92-.59-1.43-.59-.52 0-1.04.2-1.43.59L10.3 9.45l-7.72 7.72c-.78.78-.78 2.05 0 2.83L4 21.41c.39.39.9.59 1.41.59.51 0 1.02-.2 1.41-.59l7.78-7.78 2.81-2.81c.8-.78.8-2.07 0-2.86zM5.41 20L4 18.59l7.72-7.72 1.47 1.35L5.41 20z\"/>\n",
              "  </svg>\n",
              "      </button>\n",
              "      \n",
              "  <style>\n",
              "    .colab-df-container {\n",
              "      display:flex;\n",
              "      flex-wrap:wrap;\n",
              "      gap: 12px;\n",
              "    }\n",
              "\n",
              "    .colab-df-convert {\n",
              "      background-color: #E8F0FE;\n",
              "      border: none;\n",
              "      border-radius: 50%;\n",
              "      cursor: pointer;\n",
              "      display: none;\n",
              "      fill: #1967D2;\n",
              "      height: 32px;\n",
              "      padding: 0 0 0 0;\n",
              "      width: 32px;\n",
              "    }\n",
              "\n",
              "    .colab-df-convert:hover {\n",
              "      background-color: #E2EBFA;\n",
              "      box-shadow: 0px 1px 2px rgba(60, 64, 67, 0.3), 0px 1px 3px 1px rgba(60, 64, 67, 0.15);\n",
              "      fill: #174EA6;\n",
              "    }\n",
              "\n",
              "    [theme=dark] .colab-df-convert {\n",
              "      background-color: #3B4455;\n",
              "      fill: #D2E3FC;\n",
              "    }\n",
              "\n",
              "    [theme=dark] .colab-df-convert:hover {\n",
              "      background-color: #434B5C;\n",
              "      box-shadow: 0px 1px 3px 1px rgba(0, 0, 0, 0.15);\n",
              "      filter: drop-shadow(0px 1px 2px rgba(0, 0, 0, 0.3));\n",
              "      fill: #FFFFFF;\n",
              "    }\n",
              "  </style>\n",
              "\n",
              "      <script>\n",
              "        const buttonEl =\n",
              "          document.querySelector('#df-f42655c1-e0e5-40ca-88a1-09677d3f1aef button.colab-df-convert');\n",
              "        buttonEl.style.display =\n",
              "          google.colab.kernel.accessAllowed ? 'block' : 'none';\n",
              "\n",
              "        async function convertToInteractive(key) {\n",
              "          const element = document.querySelector('#df-f42655c1-e0e5-40ca-88a1-09677d3f1aef');\n",
              "          const dataTable =\n",
              "            await google.colab.kernel.invokeFunction('convertToInteractive',\n",
              "                                                     [key], {});\n",
              "          if (!dataTable) return;\n",
              "\n",
              "          const docLinkHtml = 'Like what you see? Visit the ' +\n",
              "            '<a target=\"_blank\" href=https://colab.research.google.com/notebooks/data_table.ipynb>data table notebook</a>'\n",
              "            + ' to learn more about interactive tables.';\n",
              "          element.innerHTML = '';\n",
              "          dataTable['output_type'] = 'display_data';\n",
              "          await google.colab.output.renderOutput(dataTable, element);\n",
              "          const docLink = document.createElement('div');\n",
              "          docLink.innerHTML = docLinkHtml;\n",
              "          element.appendChild(docLink);\n",
              "        }\n",
              "      </script>\n",
              "    </div>\n",
              "  </div>\n",
              "  "
            ]
          },
          "metadata": {},
          "execution_count": 30
        }
      ]
    },
    {
      "cell_type": "code",
      "source": [
        "train[\"DATE ISSUED\"][0].year"
      ],
      "metadata": {
        "colab": {
          "base_uri": "https://localhost:8080/"
        },
        "id": "fhivpYW4zdFu",
        "outputId": "fad34ba3-7a92-442f-a876-77ac1c643f1f"
      },
      "execution_count": 31,
      "outputs": [
        {
          "output_type": "execute_result",
          "data": {
            "text/plain": [
              "2006"
            ]
          },
          "metadata": {},
          "execution_count": 31
        }
      ]
    },
    {
      "cell_type": "code",
      "source": [
        "def year(colname,datecol):\n",
        "  train[colname]=train[datecol].apply(lambda x:x.year)\n",
        "  test[colname]= test[datecol].apply(lambda x:x.year)\n"
      ],
      "metadata": {
        "id": "aOYtmwmMVAlv"
      },
      "execution_count": 32,
      "outputs": []
    },
    {
      "cell_type": "code",
      "source": [
        "year(\"LICENSE STATUS CHANGE YEAR\",\"LICENSE STATUS CHANGE DATE\")"
      ],
      "metadata": {
        "id": "X41rCsLchXcb"
      },
      "execution_count": 33,
      "outputs": []
    },
    {
      "cell_type": "code",
      "source": [
        "train[\"LICENSE STATUS CHANGE YEAR\"]"
      ],
      "metadata": {
        "colab": {
          "base_uri": "https://localhost:8080/"
        },
        "id": "Clo66ZhwhfcI",
        "outputId": "0532ecdb-94c3-4832-d46f-b475e9f73132"
      },
      "execution_count": 34,
      "outputs": [
        {
          "output_type": "execute_result",
          "data": {
            "text/plain": [
              "0           NaN\n",
              "1        2006.0\n",
              "2           NaN\n",
              "3           NaN\n",
              "4           NaN\n",
              "          ...  \n",
              "85890    2012.0\n",
              "85891       NaN\n",
              "85892       NaN\n",
              "85893    2012.0\n",
              "85894    2005.0\n",
              "Name: LICENSE STATUS CHANGE YEAR, Length: 85895, dtype: float64"
            ]
          },
          "metadata": {},
          "execution_count": 34
        }
      ]
    },
    {
      "cell_type": "code",
      "source": [
        "date_col"
      ],
      "metadata": {
        "colab": {
          "base_uri": "https://localhost:8080/"
        },
        "id": "YrXAoWUKjF05",
        "outputId": "42664039-ad04-49b4-dcac-8521180153d3"
      },
      "execution_count": 35,
      "outputs": [
        {
          "output_type": "execute_result",
          "data": {
            "text/plain": [
              "['DATE ISSUED',\n",
              " 'LICENSE TERM START DATE',\n",
              " 'LICENSE STATUS CHANGE DATE',\n",
              " 'LICENSE TERM EXPIRATION DATE',\n",
              " 'PAYMENT DATE',\n",
              " 'APPLICATION REQUIREMENTS COMPLETE',\n",
              " 'LICENSE APPROVED FOR ISSUANCE']"
            ]
          },
          "metadata": {},
          "execution_count": 35
        }
      ]
    },
    {
      "cell_type": "code",
      "source": [
        "year(\"LICENSE STATUS CHANGE YEAR\",\"LICENSE STATUS CHANGE DATE\")\n",
        "year(\"DATE ISSUED YEAR\",\"DATE ISSUED\")\n",
        "year(\"LICENSE APPROVED FOR ISSUANCE YEAR\",\"LICENSE APPROVED FOR ISSUANCE\")\n",
        "year(\"APPLICATION REQUIREMENTS COMPLETE YEAR\",\"APPLICATION REQUIREMENTS COMPLETE\")\n",
        "year(\"LICENSE TERM EXPIRATION YEAR\",\"LICENSE TERM EXPIRATION DATE\")\n",
        "year(\"LICENSE TERM START YEAR\",\"LICENSE TERM START DATE\")"
      ],
      "metadata": {
        "id": "igQwve4qhi2o"
      },
      "execution_count": 36,
      "outputs": []
    },
    {
      "cell_type": "code",
      "source": [
        "print(train[\"LICENSE TERM EXPIRATION YEAR\"].isnull().sum())\n",
        "print(train[\"LICENSE TERM START YEAR\"].isnull().sum())"
      ],
      "metadata": {
        "colab": {
          "base_uri": "https://localhost:8080/"
        },
        "id": "BlhYxMiaqZOf",
        "outputId": "0c20e6ec-cf1f-492b-e0a2-3d34b44c06de"
      },
      "execution_count": 37,
      "outputs": [
        {
          "output_type": "stream",
          "name": "stdout",
          "text": [
            "18\n",
            "228\n"
          ]
        }
      ]
    },
    {
      "cell_type": "code",
      "source": [
        "train[train[\"LICENSE TERM EXPIRATION YEAR\"].isnull()][\"LICENSE TERM EXPIRATION YEAR\"]"
      ],
      "metadata": {
        "colab": {
          "base_uri": "https://localhost:8080/"
        },
        "id": "8mwhaHf8tdji",
        "outputId": "7a23e5d1-c47d-40a9-f65a-07a38b1ea127"
      },
      "execution_count": 38,
      "outputs": [
        {
          "output_type": "execute_result",
          "data": {
            "text/plain": [
              "138     NaN\n",
              "184     NaN\n",
              "7121    NaN\n",
              "7439    NaN\n",
              "13232   NaN\n",
              "27046   NaN\n",
              "31510   NaN\n",
              "37317   NaN\n",
              "45017   NaN\n",
              "47519   NaN\n",
              "48394   NaN\n",
              "52689   NaN\n",
              "59161   NaN\n",
              "62261   NaN\n",
              "63482   NaN\n",
              "70379   NaN\n",
              "73386   NaN\n",
              "77278   NaN\n",
              "Name: LICENSE TERM EXPIRATION YEAR, dtype: float64"
            ]
          },
          "metadata": {},
          "execution_count": 38
        }
      ]
    },
    {
      "cell_type": "code",
      "source": [
        "def fill_mean_year(col_list):\n",
        "  for i in col_list:\n",
        "    train[i]= train[i].fillna(round(train[i].mean()))\n",
        "    test[i]=test[i].fillna(round(test[i].mean()))"
      ],
      "metadata": {
        "id": "TRZNmThv7kjs"
      },
      "execution_count": 39,
      "outputs": []
    },
    {
      "cell_type": "code",
      "source": [
        "fill_year_list=[\"LICENSE STATUS CHANGE YEAR\",\"DATE ISSUED YEAR\",\"LICENSE APPROVED FOR ISSUANCE YEAR\",\n",
        "                \"APPLICATION REQUIREMENTS COMPLETE YEAR\",\"LICENSE TERM EXPIRATION YEAR\",\"LICENSE TERM START YEAR\"\n",
        "]\n",
        "\n",
        "fill_mean_year(fill_year_list)"
      ],
      "metadata": {
        "id": "3kHG_B8y9qbh"
      },
      "execution_count": 40,
      "outputs": []
    },
    {
      "cell_type": "code",
      "source": [
        "print(train[\"LICENSE TERM EXPIRATION YEAR\"].isnull().sum())\n",
        "print(train[\"LICENSE TERM START YEAR\"].isnull().sum())"
      ],
      "metadata": {
        "colab": {
          "base_uri": "https://localhost:8080/"
        },
        "id": "ZdTEpvCy-_Lx",
        "outputId": "4e317fc5-376e-410f-93ed-784a57ae21f5"
      },
      "execution_count": 41,
      "outputs": [
        {
          "output_type": "stream",
          "name": "stdout",
          "text": [
            "0\n",
            "0\n"
          ]
        }
      ]
    },
    {
      "cell_type": "code",
      "source": [
        "# import numpy as np\n",
        "# from sklearn.impute import SimpleImputer\n",
        "# imputer = SimpleImputer(missing_values=np.nan, strategy='mean')\n",
        "# x=train.loc[:,\"LICENSE TERM EXPIRATION YEAR\"].values.reshape(-1, 1) \n",
        "# # print(x)\n",
        "# imputer=imputer.fit(x)\n",
        "# x=imputer.transform(x)\n",
        "# count=0\n",
        "# for i in np.isnan(x):\n",
        "#   if(i==True):\n",
        "#     count+=1\n",
        "# # np.count_nonzero(np.isnan(x))\n",
        "# print(count)"
      ],
      "metadata": {
        "id": "koCd7cHYr8vK"
      },
      "execution_count": 42,
      "outputs": []
    },
    {
      "cell_type": "code",
      "source": [
        "train[\"LICENSE VALID\"]=train[\"LICENSE TERM EXPIRATION YEAR\"]-train[\"LICENSE TERM START YEAR\"]\n",
        "test[\"LICENSE VALID\"]= test[\"LICENSE TERM EXPIRATION YEAR\"]-train[\"LICENSE TERM START YEAR\"]"
      ],
      "metadata": {
        "id": "HQsvqKY9nI_Q"
      },
      "execution_count": 43,
      "outputs": []
    },
    {
      "cell_type": "code",
      "source": [
        "train.columns"
      ],
      "metadata": {
        "colab": {
          "base_uri": "https://localhost:8080/"
        },
        "id": "pDHvrKMgpqUm",
        "outputId": "3f8f6400-1157-4b3b-efc9-56108b9e5cda"
      },
      "execution_count": 44,
      "outputs": [
        {
          "output_type": "execute_result",
          "data": {
            "text/plain": [
              "Index(['ACCOUNT NUMBER', 'SITE NUMBER', 'LEGAL NAME', 'DOING BUSINESS AS NAME',\n",
              "       'CITY', 'STATE', 'ZIP CODE', 'WARD', 'PRECINCT', 'WARD PRECINCT',\n",
              "       'POLICE DISTRICT', 'LICENSE CODE', 'LICENSE DESCRIPTION',\n",
              "       'LICENSE NUMBER', 'APPLICATION TYPE',\n",
              "       'APPLICATION REQUIREMENTS COMPLETE', 'PAYMENT DATE',\n",
              "       'CONDITIONAL APPROVAL', 'LICENSE TERM START DATE',\n",
              "       'LICENSE TERM EXPIRATION DATE', 'LICENSE APPROVED FOR ISSUANCE',\n",
              "       'DATE ISSUED', 'LICENSE STATUS CHANGE DATE', 'LATITUDE', 'LONGITUDE',\n",
              "       'LICENSE STATUS', 'LICENSE STATUS CHANGE YEAR', 'DATE ISSUED YEAR',\n",
              "       'LICENSE APPROVED FOR ISSUANCE YEAR',\n",
              "       'APPLICATION REQUIREMENTS COMPLETE YEAR',\n",
              "       'LICENSE TERM EXPIRATION YEAR', 'LICENSE TERM START YEAR',\n",
              "       'LICENSE VALID'],\n",
              "      dtype='object')"
            ]
          },
          "metadata": {},
          "execution_count": 44
        }
      ]
    },
    {
      "cell_type": "code",
      "source": [
        "drop_col=[\"LICENSE TERM START YEAR\",'DATE ISSUED',\n",
        " 'LICENSE TERM START DATE',\n",
        " 'LICENSE STATUS CHANGE DATE',\n",
        " 'LICENSE TERM EXPIRATION DATE',\n",
        " 'APPLICATION REQUIREMENTS COMPLETE',\n",
        " 'LICENSE APPROVED FOR ISSUANCE',\n",
        " \"LICENSE TERM EXPIRATION YEAR\",\n",
        " ]  \n",
        "\n",
        "train.drop(columns=drop_col,axis=1,inplace=True)\n",
        "test.drop(columns=drop_col,axis=1,inplace=True)"
      ],
      "metadata": {
        "id": "cvql2a6fpEnb"
      },
      "execution_count": 45,
      "outputs": []
    },
    {
      "cell_type": "code",
      "source": [
        "train.columns.size"
      ],
      "metadata": {
        "colab": {
          "base_uri": "https://localhost:8080/"
        },
        "id": "E2AHZKl7pugN",
        "outputId": "53146322-430d-4fc5-8842-f5a0711ade2f"
      },
      "execution_count": 46,
      "outputs": [
        {
          "output_type": "execute_result",
          "data": {
            "text/plain": [
              "25"
            ]
          },
          "metadata": {},
          "execution_count": 46
        }
      ]
    },
    {
      "cell_type": "code",
      "source": [
        "train[\"LICENSE VALID\"].unique()"
      ],
      "metadata": {
        "colab": {
          "base_uri": "https://localhost:8080/"
        },
        "id": "S1Fh71nFp8-k",
        "outputId": "ca1eef98-7e1a-42af-8f18-e17fb2ff9482"
      },
      "execution_count": 47,
      "outputs": [
        {
          "output_type": "execute_result",
          "data": {
            "text/plain": [
              "array([   1.,    2.,    0.,    3.,    5.,   -1.,   -2.,    4.,   -5.,\n",
              "         -4.,   -6.,   -3.,  -10.,   -9.,   -8.,    7.,   -7.,  -12.,\n",
              "          6.,  -11., -101.])"
            ]
          },
          "metadata": {},
          "execution_count": 47
        }
      ]
    },
    {
      "cell_type": "code",
      "source": [
        "train[\"LICENSE VALID\"]=train[\"LICENSE VALID\"].apply(lambda x: abs(x))\n",
        "test[\"LICENSE VALID\"]=test[\"LICENSE VALID\"].apply(lambda x: abs(x))"
      ],
      "metadata": {
        "id": "1fQxG5au_nGu"
      },
      "execution_count": 48,
      "outputs": []
    },
    {
      "cell_type": "code",
      "source": [
        "train[\"LICENSE VALID\"].unique()"
      ],
      "metadata": {
        "colab": {
          "base_uri": "https://localhost:8080/"
        },
        "id": "EknqEI7G_-zl",
        "outputId": "7a364076-d2d5-4af4-bd36-4d5dc7c2c715"
      },
      "execution_count": 49,
      "outputs": [
        {
          "output_type": "execute_result",
          "data": {
            "text/plain": [
              "array([  1.,   2.,   0.,   3.,   5.,   4.,   6.,  10.,   9.,   8.,   7.,\n",
              "        12.,  11., 101.])"
            ]
          },
          "metadata": {},
          "execution_count": 49
        }
      ]
    },
    {
      "cell_type": "code",
      "source": [
        "print(train[\"LEGAL NAME\"].nunique())\n",
        "test[\"LEGAL NAME\"].nunique()"
      ],
      "metadata": {
        "colab": {
          "base_uri": "https://localhost:8080/"
        },
        "id": "_7Jnh5ztAAUk",
        "outputId": "21b7369d-80b5-49fc-be03-546002000a43"
      },
      "execution_count": 50,
      "outputs": [
        {
          "output_type": "stream",
          "name": "stdout",
          "text": [
            "38744\n"
          ]
        },
        {
          "output_type": "execute_result",
          "data": {
            "text/plain": [
              "36523"
            ]
          },
          "metadata": {},
          "execution_count": 50
        }
      ]
    },
    {
      "cell_type": "code",
      "source": [
        "train[\"LEGAL NAME\"].isnull().sum()"
      ],
      "metadata": {
        "colab": {
          "base_uri": "https://localhost:8080/"
        },
        "id": "IWxmsIeOAR7F",
        "outputId": "7d3f7e71-a975-4e84-adc6-982fa764aeb6"
      },
      "execution_count": 51,
      "outputs": [
        {
          "output_type": "execute_result",
          "data": {
            "text/plain": [
              "0"
            ]
          },
          "metadata": {},
          "execution_count": 51
        }
      ]
    },
    {
      "cell_type": "code",
      "source": [
        "train[\"LEGAL NAME\"]"
      ],
      "metadata": {
        "colab": {
          "base_uri": "https://localhost:8080/"
        },
        "id": "3stqP4L7Hb6M",
        "outputId": "2cef0bb5-7810-4537-b033-39b0fd8ecc54"
      },
      "execution_count": 52,
      "outputs": [
        {
          "output_type": "execute_result",
          "data": {
            "text/plain": [
              "0                          CARMEN CAHUE\n",
              "1                   ISLA TROPICAL, INC.\n",
              "2                        DJS REMODELING\n",
              "3              ALL-BRY CONSTRUCTION CO.\n",
              "4          MCDONOUGH MECHANICAL SERVICE\n",
              "                      ...              \n",
              "85890             UNITED PARCEL SERVICE\n",
              "85891    EXPRESS BOARD UP SERVICE, INC.\n",
              "85892                  ARAMARK SMMS LLC\n",
              "85893     GENERAL NUTRITION CORPORATION\n",
              "85894                 JUAN CARLOS ERAZO\n",
              "Name: LEGAL NAME, Length: 85895, dtype: object"
            ]
          },
          "metadata": {},
          "execution_count": 52
        }
      ]
    },
    {
      "cell_type": "code",
      "source": [
        "train['LEGAL NAME'].apply(lambda x: x.upper())\n",
        "train['DOING BUSINESS AS NAME'].apply(lambda x: x.upper())\n",
        "test['LEGAL NAME'].apply(lambda x: x.upper())\n",
        "test['DOING BUSINESS AS NAME'].apply(lambda x: x.upper())\n",
        "train.head()"
      ],
      "metadata": {
        "colab": {
          "base_uri": "https://localhost:8080/",
          "height": 380
        },
        "id": "p22ffJfwEOy9",
        "outputId": "4b232598-9c9e-4d3d-c585-88a63b84a26f"
      },
      "execution_count": 53,
      "outputs": [
        {
          "output_type": "error",
          "ename": "AttributeError",
          "evalue": "ignored",
          "traceback": [
            "\u001b[0;31m---------------------------------------------------------------------------\u001b[0m",
            "\u001b[0;31mAttributeError\u001b[0m                            Traceback (most recent call last)",
            "\u001b[0;32m<ipython-input-53-04c556244bae>\u001b[0m in \u001b[0;36m<module>\u001b[0;34m()\u001b[0m\n\u001b[1;32m      1\u001b[0m \u001b[0mtrain\u001b[0m\u001b[0;34m[\u001b[0m\u001b[0;34m'LEGAL NAME'\u001b[0m\u001b[0;34m]\u001b[0m\u001b[0;34m.\u001b[0m\u001b[0mapply\u001b[0m\u001b[0;34m(\u001b[0m\u001b[0;32mlambda\u001b[0m \u001b[0mx\u001b[0m\u001b[0;34m:\u001b[0m \u001b[0mx\u001b[0m\u001b[0;34m.\u001b[0m\u001b[0mupper\u001b[0m\u001b[0;34m(\u001b[0m\u001b[0;34m)\u001b[0m\u001b[0;34m)\u001b[0m\u001b[0;34m\u001b[0m\u001b[0;34m\u001b[0m\u001b[0m\n\u001b[0;32m----> 2\u001b[0;31m \u001b[0mtrain\u001b[0m\u001b[0;34m[\u001b[0m\u001b[0;34m'DOING BUSINESS AS NAME'\u001b[0m\u001b[0;34m]\u001b[0m\u001b[0;34m.\u001b[0m\u001b[0mapply\u001b[0m\u001b[0;34m(\u001b[0m\u001b[0;32mlambda\u001b[0m \u001b[0mx\u001b[0m\u001b[0;34m:\u001b[0m \u001b[0mx\u001b[0m\u001b[0;34m.\u001b[0m\u001b[0mupper\u001b[0m\u001b[0;34m(\u001b[0m\u001b[0;34m)\u001b[0m\u001b[0;34m)\u001b[0m\u001b[0;34m\u001b[0m\u001b[0;34m\u001b[0m\u001b[0m\n\u001b[0m\u001b[1;32m      3\u001b[0m \u001b[0mtest\u001b[0m\u001b[0;34m[\u001b[0m\u001b[0;34m'LEGAL NAME'\u001b[0m\u001b[0;34m]\u001b[0m\u001b[0;34m.\u001b[0m\u001b[0mapply\u001b[0m\u001b[0;34m(\u001b[0m\u001b[0;32mlambda\u001b[0m \u001b[0mx\u001b[0m\u001b[0;34m:\u001b[0m \u001b[0mx\u001b[0m\u001b[0;34m.\u001b[0m\u001b[0mupper\u001b[0m\u001b[0;34m(\u001b[0m\u001b[0;34m)\u001b[0m\u001b[0;34m)\u001b[0m\u001b[0;34m\u001b[0m\u001b[0;34m\u001b[0m\u001b[0m\n\u001b[1;32m      4\u001b[0m \u001b[0mtest\u001b[0m\u001b[0;34m[\u001b[0m\u001b[0;34m'DOING BUSINESS AS NAME'\u001b[0m\u001b[0;34m]\u001b[0m\u001b[0;34m.\u001b[0m\u001b[0mapply\u001b[0m\u001b[0;34m(\u001b[0m\u001b[0;32mlambda\u001b[0m \u001b[0mx\u001b[0m\u001b[0;34m:\u001b[0m \u001b[0mx\u001b[0m\u001b[0;34m.\u001b[0m\u001b[0mupper\u001b[0m\u001b[0;34m(\u001b[0m\u001b[0;34m)\u001b[0m\u001b[0;34m)\u001b[0m\u001b[0;34m\u001b[0m\u001b[0;34m\u001b[0m\u001b[0m\n\u001b[1;32m      5\u001b[0m \u001b[0mtrain\u001b[0m\u001b[0;34m.\u001b[0m\u001b[0mhead\u001b[0m\u001b[0;34m(\u001b[0m\u001b[0;34m)\u001b[0m\u001b[0;34m\u001b[0m\u001b[0;34m\u001b[0m\u001b[0m\n",
            "\u001b[0;32m/usr/local/lib/python3.7/dist-packages/pandas/core/series.py\u001b[0m in \u001b[0;36mapply\u001b[0;34m(self, func, convert_dtype, args, **kwargs)\u001b[0m\n\u001b[1;32m   4355\u001b[0m         \u001b[0mdtype\u001b[0m\u001b[0;34m:\u001b[0m \u001b[0mfloat64\u001b[0m\u001b[0;34m\u001b[0m\u001b[0;34m\u001b[0m\u001b[0m\n\u001b[1;32m   4356\u001b[0m         \"\"\"\n\u001b[0;32m-> 4357\u001b[0;31m         \u001b[0;32mreturn\u001b[0m \u001b[0mSeriesApply\u001b[0m\u001b[0;34m(\u001b[0m\u001b[0mself\u001b[0m\u001b[0;34m,\u001b[0m \u001b[0mfunc\u001b[0m\u001b[0;34m,\u001b[0m \u001b[0mconvert_dtype\u001b[0m\u001b[0;34m,\u001b[0m \u001b[0margs\u001b[0m\u001b[0;34m,\u001b[0m \u001b[0mkwargs\u001b[0m\u001b[0;34m)\u001b[0m\u001b[0;34m.\u001b[0m\u001b[0mapply\u001b[0m\u001b[0;34m(\u001b[0m\u001b[0;34m)\u001b[0m\u001b[0;34m\u001b[0m\u001b[0;34m\u001b[0m\u001b[0m\n\u001b[0m\u001b[1;32m   4358\u001b[0m \u001b[0;34m\u001b[0m\u001b[0m\n\u001b[1;32m   4359\u001b[0m     def _reduce(\n",
            "\u001b[0;32m/usr/local/lib/python3.7/dist-packages/pandas/core/apply.py\u001b[0m in \u001b[0;36mapply\u001b[0;34m(self)\u001b[0m\n\u001b[1;32m   1041\u001b[0m             \u001b[0;32mreturn\u001b[0m \u001b[0mself\u001b[0m\u001b[0;34m.\u001b[0m\u001b[0mapply_str\u001b[0m\u001b[0;34m(\u001b[0m\u001b[0;34m)\u001b[0m\u001b[0;34m\u001b[0m\u001b[0;34m\u001b[0m\u001b[0m\n\u001b[1;32m   1042\u001b[0m \u001b[0;34m\u001b[0m\u001b[0m\n\u001b[0;32m-> 1043\u001b[0;31m         \u001b[0;32mreturn\u001b[0m \u001b[0mself\u001b[0m\u001b[0;34m.\u001b[0m\u001b[0mapply_standard\u001b[0m\u001b[0;34m(\u001b[0m\u001b[0;34m)\u001b[0m\u001b[0;34m\u001b[0m\u001b[0;34m\u001b[0m\u001b[0m\n\u001b[0m\u001b[1;32m   1044\u001b[0m \u001b[0;34m\u001b[0m\u001b[0m\n\u001b[1;32m   1045\u001b[0m     \u001b[0;32mdef\u001b[0m \u001b[0magg\u001b[0m\u001b[0;34m(\u001b[0m\u001b[0mself\u001b[0m\u001b[0;34m)\u001b[0m\u001b[0;34m:\u001b[0m\u001b[0;34m\u001b[0m\u001b[0;34m\u001b[0m\u001b[0m\n",
            "\u001b[0;32m/usr/local/lib/python3.7/dist-packages/pandas/core/apply.py\u001b[0m in \u001b[0;36mapply_standard\u001b[0;34m(self)\u001b[0m\n\u001b[1;32m   1099\u001b[0m                     \u001b[0mvalues\u001b[0m\u001b[0;34m,\u001b[0m\u001b[0;34m\u001b[0m\u001b[0;34m\u001b[0m\u001b[0m\n\u001b[1;32m   1100\u001b[0m                     \u001b[0mf\u001b[0m\u001b[0;34m,\u001b[0m  \u001b[0;31m# type: ignore[arg-type]\u001b[0m\u001b[0;34m\u001b[0m\u001b[0;34m\u001b[0m\u001b[0m\n\u001b[0;32m-> 1101\u001b[0;31m                     \u001b[0mconvert\u001b[0m\u001b[0;34m=\u001b[0m\u001b[0mself\u001b[0m\u001b[0;34m.\u001b[0m\u001b[0mconvert_dtype\u001b[0m\u001b[0;34m,\u001b[0m\u001b[0;34m\u001b[0m\u001b[0;34m\u001b[0m\u001b[0m\n\u001b[0m\u001b[1;32m   1102\u001b[0m                 )\n\u001b[1;32m   1103\u001b[0m \u001b[0;34m\u001b[0m\u001b[0m\n",
            "\u001b[0;32m/usr/local/lib/python3.7/dist-packages/pandas/_libs/lib.pyx\u001b[0m in \u001b[0;36mpandas._libs.lib.map_infer\u001b[0;34m()\u001b[0m\n",
            "\u001b[0;32m<ipython-input-53-04c556244bae>\u001b[0m in \u001b[0;36m<lambda>\u001b[0;34m(x)\u001b[0m\n\u001b[1;32m      1\u001b[0m \u001b[0mtrain\u001b[0m\u001b[0;34m[\u001b[0m\u001b[0;34m'LEGAL NAME'\u001b[0m\u001b[0;34m]\u001b[0m\u001b[0;34m.\u001b[0m\u001b[0mapply\u001b[0m\u001b[0;34m(\u001b[0m\u001b[0;32mlambda\u001b[0m \u001b[0mx\u001b[0m\u001b[0;34m:\u001b[0m \u001b[0mx\u001b[0m\u001b[0;34m.\u001b[0m\u001b[0mupper\u001b[0m\u001b[0;34m(\u001b[0m\u001b[0;34m)\u001b[0m\u001b[0;34m)\u001b[0m\u001b[0;34m\u001b[0m\u001b[0;34m\u001b[0m\u001b[0m\n\u001b[0;32m----> 2\u001b[0;31m \u001b[0mtrain\u001b[0m\u001b[0;34m[\u001b[0m\u001b[0;34m'DOING BUSINESS AS NAME'\u001b[0m\u001b[0;34m]\u001b[0m\u001b[0;34m.\u001b[0m\u001b[0mapply\u001b[0m\u001b[0;34m(\u001b[0m\u001b[0;32mlambda\u001b[0m \u001b[0mx\u001b[0m\u001b[0;34m:\u001b[0m \u001b[0mx\u001b[0m\u001b[0;34m.\u001b[0m\u001b[0mupper\u001b[0m\u001b[0;34m(\u001b[0m\u001b[0;34m)\u001b[0m\u001b[0;34m)\u001b[0m\u001b[0;34m\u001b[0m\u001b[0;34m\u001b[0m\u001b[0m\n\u001b[0m\u001b[1;32m      3\u001b[0m \u001b[0mtest\u001b[0m\u001b[0;34m[\u001b[0m\u001b[0;34m'LEGAL NAME'\u001b[0m\u001b[0;34m]\u001b[0m\u001b[0;34m.\u001b[0m\u001b[0mapply\u001b[0m\u001b[0;34m(\u001b[0m\u001b[0;32mlambda\u001b[0m \u001b[0mx\u001b[0m\u001b[0;34m:\u001b[0m \u001b[0mx\u001b[0m\u001b[0;34m.\u001b[0m\u001b[0mupper\u001b[0m\u001b[0;34m(\u001b[0m\u001b[0;34m)\u001b[0m\u001b[0;34m)\u001b[0m\u001b[0;34m\u001b[0m\u001b[0;34m\u001b[0m\u001b[0m\n\u001b[1;32m      4\u001b[0m \u001b[0mtest\u001b[0m\u001b[0;34m[\u001b[0m\u001b[0;34m'DOING BUSINESS AS NAME'\u001b[0m\u001b[0;34m]\u001b[0m\u001b[0;34m.\u001b[0m\u001b[0mapply\u001b[0m\u001b[0;34m(\u001b[0m\u001b[0;32mlambda\u001b[0m \u001b[0mx\u001b[0m\u001b[0;34m:\u001b[0m \u001b[0mx\u001b[0m\u001b[0;34m.\u001b[0m\u001b[0mupper\u001b[0m\u001b[0;34m(\u001b[0m\u001b[0;34m)\u001b[0m\u001b[0;34m)\u001b[0m\u001b[0;34m\u001b[0m\u001b[0;34m\u001b[0m\u001b[0m\n\u001b[1;32m      5\u001b[0m \u001b[0mtrain\u001b[0m\u001b[0;34m.\u001b[0m\u001b[0mhead\u001b[0m\u001b[0;34m(\u001b[0m\u001b[0;34m)\u001b[0m\u001b[0;34m\u001b[0m\u001b[0;34m\u001b[0m\u001b[0m\n",
            "\u001b[0;31mAttributeError\u001b[0m: 'float' object has no attribute 'upper'"
          ]
        }
      ]
    },
    {
      "cell_type": "code",
      "source": [
        "  import numpy as np"
      ],
      "metadata": {
        "id": "GzqpqpMMq0ie"
      },
      "execution_count": null,
      "outputs": []
    },
    {
      "cell_type": "code",
      "source": [
        "def   fill_none(fill_none_list):\n",
        "    for i in fill_none_list:\n",
        "        train[i] = train[i].fillna('None')\n",
        "        test[i] = test[i].fillna('None')\n",
        "fill_none_list = ['LEGAL NAME', 'DOING BUSINESS AS NAME']\n",
        "fill_none(fill_none_list)"
      ],
      "metadata": {
        "id": "X0oy2yZRJ-Hd"
      },
      "execution_count": null,
      "outputs": []
    },
    {
      "cell_type": "code",
      "source": [
        "train['LEGAL NAME'] = train['LEGAL NAME'].str.replace('.', '')\n",
        "train['DOING BUSINESS AS NAME'] = train['DOING BUSINESS AS NAME'].str.replace('.', '')"
      ],
      "metadata": {
        "id": "0hhRoHgNkTH8"
      },
      "execution_count": null,
      "outputs": []
    },
    {
      "cell_type": "code",
      "source": [
        "train['COMP TYPE'] = 'others'\n",
        "test[\"COMP TYPE\"]='others'"
      ],
      "metadata": {
        "id": "0MnugkqtmMV2"
      },
      "execution_count": null,
      "outputs": []
    },
    {
      "cell_type": "code",
      "source": [
        "train['COMP TYPE'] = np.where(train['LEGAL NAME'].str.contains('INC'), 'INC',train['COMP TYPE'])\n",
        "train['COMP TYPE'] = np.where(train['LEGAL NAME'].str.contains('INCORPORATED'), 'INC',train['COMP TYPE'])\n",
        "train['COMP TYPE'] = np.where(train['DOING BUSINESS AS NAME'].str.contains('INC'), 'INC',train['COMP TYPE'])\n",
        "train['COMP TYPE'] = np.where(train['DOING BUSINESS AS NAME'].str.contains('INCORPORATED'), 'INC',train['COMP TYPE'])"
      ],
      "metadata": {
        "id": "ff1I8WT4nfUJ"
      },
      "execution_count": null,
      "outputs": []
    },
    {
      "cell_type": "code",
      "source": [
        "train['COMP TYPE'] = np.where(train['LEGAL NAME'].str.contains('LLC'), 'INC',train['COMP TYPE'])\n",
        "train['COMP TYPE'] = np.where(train['DOING BUSINESS AS NAME'].str.contains('LLC'), 'INC',train['COMP TYPE'])\n"
      ],
      "metadata": {
        "id": "gEKa48AUv9rP"
      },
      "execution_count": null,
      "outputs": []
    },
    {
      "cell_type": "code",
      "source": [
        "train['COMP TYPE'] = np.where(train['LEGAL NAME'].str.contains('CORPORATION'), 'CORP',train['COMP TYPE'])\n",
        "train['COMP TYPE'] = np.where(train['LEGAL NAME'].str.contains('CORP'), 'CORP',train['COMP TYPE'])\n",
        "train['COMP TYPE'] = np.where(train['LEGAL NAME'].str.contains('CO'), 'CORP',train['COMP TYPE'])\n",
        "train['COMP TYPE'] = np.where(train['DOING BUSINESS AS NAME'].str.contains('CO'), 'CORP',train['COMP TYPE'])\n",
        "train['COMP TYPE'] = np.where(train['DOING BUSINESS AS NAME'].str.contains('CORP'), 'CORP',train['COMP TYPE'])\n",
        "train['COMP TYPE'] = np.where(train['DOING BUSINESS AS NAME'].str.contains('CORPORATION'), 'CORP',train['COMP TYPE'])"
      ],
      "metadata": {
        "id": "3YL14SsMxC0n"
      },
      "execution_count": null,
      "outputs": []
    }
  ]
}